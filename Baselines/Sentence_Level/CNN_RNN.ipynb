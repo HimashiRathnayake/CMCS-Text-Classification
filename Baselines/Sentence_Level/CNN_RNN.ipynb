{
  "nbformat": 4,
  "nbformat_minor": 0,
  "metadata": {
    "colab": {
      "name": "CNN_RNN.ipynb",
      "provenance": [],
      "collapsed_sections": [
        "3zR8-aK009p9",
        "p7y2rE1vNZWc",
        "0BYvE-D5QAc0",
        "xXiAlHRZ7X_p",
        "Shq4w6GcqbIq",
        "IHqkf0XG8dqL",
        "LdKgzrbd8Uy8",
        "91fqgdk67oaZ",
        "sPm_9b6Y8EPi",
        "wVYEOwiN8H3s",
        "hx80tScO_ddi",
        "Pt3TZsP84gRK",
        "WC0ZRhKe5a6C",
        "jbpLZfOPGGKN",
        "fqK6yZoCHIyE",
        "u4DuyDZMkcE3",
        "B6CXqtIDR4jS",
        "dN_uGz3CZMCh",
        "p-x5t7AF_DGO",
        "d46ja9NetIpP",
        "G61FNXmM_QSL",
        "H-RSSqI7BDqE",
        "KMtXKRpRYBx2",
        "BtZBU5XNZaMi",
        "LR7WojLAszo7"
      ],
      "include_colab_link": true
    },
    "environment": {
      "name": "tf2-2-2-gpu.2-2.m50",
      "type": "gcloud",
      "uri": "gcr.io/deeplearning-platform-release/tf2-2-2-gpu.2-2:m50"
    },
    "kernelspec": {
      "display_name": "Python 3",
      "language": "python",
      "name": "python3"
    },
    "language_info": {
      "codemirror_mode": {
        "name": "ipython",
        "version": 3
      },
      "file_extension": ".py",
      "mimetype": "text/x-python",
      "name": "python",
      "nbconvert_exporter": "python",
      "pygments_lexer": "ipython3",
      "version": "3.7.6"
    },
    "accelerator": "GPU"
  },
  "cells": [
    {
      "cell_type": "markdown",
      "metadata": {
        "id": "view-in-github",
        "colab_type": "text"
      },
      "source": [
        "<a href=\"https://colab.research.google.com/github/HimashiRathnayake/CMCS-Text-Classification/blob/main/Baselines/CNN_RNN.ipynb\" target=\"_parent\"><img src=\"https://colab.research.google.com/assets/colab-badge.svg\" alt=\"Open In Colab\"/></a>"
      ]
    },
    {
      "cell_type": "code",
      "metadata": {
        "colab": {
          "base_uri": "https://localhost:8080/"
        },
        "id": "m583pAMbR7Ld",
        "outputId": "f276d894-ca1f-4ab2-aa20-9b0d87281c7f"
      },
      "source": [
        "!nvidia-smi"
      ],
      "execution_count": null,
      "outputs": [
        {
          "output_type": "stream",
          "text": [
            "Wed Jun  2 15:12:22 2021       \n",
            "+-----------------------------------------------------------------------------+\n",
            "| NVIDIA-SMI 465.19.01    Driver Version: 460.32.03    CUDA Version: 11.2     |\n",
            "|-------------------------------+----------------------+----------------------+\n",
            "| GPU  Name        Persistence-M| Bus-Id        Disp.A | Volatile Uncorr. ECC |\n",
            "| Fan  Temp  Perf  Pwr:Usage/Cap|         Memory-Usage | GPU-Util  Compute M. |\n",
            "|                               |                      |               MIG M. |\n",
            "|===============================+======================+======================|\n",
            "|   0  Tesla T4            Off  | 00000000:00:04.0 Off |                    0 |\n",
            "| N/A   59C    P8    11W /  70W |      0MiB / 15109MiB |      0%      Default |\n",
            "|                               |                      |                  N/A |\n",
            "+-------------------------------+----------------------+----------------------+\n",
            "                                                                               \n",
            "+-----------------------------------------------------------------------------+\n",
            "| Processes:                                                                  |\n",
            "|  GPU   GI   CI        PID   Type   Process name                  GPU Memory |\n",
            "|        ID   ID                                                   Usage      |\n",
            "|=============================================================================|\n",
            "|  No running processes found                                                 |\n",
            "+-----------------------------------------------------------------------------+\n"
          ],
          "name": "stdout"
        }
      ]
    },
    {
      "cell_type": "code",
      "metadata": {
        "id": "KQPVewrLSL5e",
        "colab": {
          "base_uri": "https://localhost:8080/",
          "height": 35
        },
        "outputId": "5de90ec0-2b57-462f-a7d9-4581cd34e6af"
      },
      "source": [
        "import tensorflow as tf\n",
        "tf.test.gpu_device_name()"
      ],
      "execution_count": null,
      "outputs": [
        {
          "output_type": "execute_result",
          "data": {
            "application/vnd.google.colaboratory.intrinsic+json": {
              "type": "string"
            },
            "text/plain": [
              "'/device:GPU:0'"
            ]
          },
          "metadata": {
            "tags": []
          },
          "execution_count": 2
        }
      ]
    },
    {
      "cell_type": "markdown",
      "metadata": {
        "id": "3zR8-aK009p9"
      },
      "source": [
        "# User Parameters"
      ]
    },
    {
      "cell_type": "code",
      "metadata": {
        "colab": {
          "base_uri": "https://localhost:8080/"
        },
        "id": "dbSiWEihH0zu",
        "outputId": "6c905a59-fd13-4e43-dc04-715f7e086cee"
      },
      "source": [
        "Host = \"colab\" #@param [\"colab\", \"AWS\", \"GCP\"]\n",
        "\n",
        "technique = \"humor\" #@param [\"humor\", \"hate speech\"]\n",
        "EMBEDDING_SIZE = 300 #@param [50, 100, 150, 200, 250, 300, 350, 400, 450, 500]\n",
        "embedding_type = \"fasttext\" #@param [\"fasttext\",\"word2vec\"]\n",
        "experiment_no = \"1\" #@param [] {allow-input: true}\n",
        "model_type = \"LSTM\" #@param [\"RNN\",\"GRU\", \"LSTM\", \"BiLSTM\" ]\n",
        "\n",
        "stack_modeles = \"\" #@param [\"\",\"2\",\"3\"]\n",
        "apply_CNN = False #@param {type:\"boolean\"}\n",
        "\n",
        "model_name = model_type + \"_model\"\n",
        "\n",
        "if(stack_modeles == \"2\" or stack_modeles == \"3\"):\n",
        "  model_name = \"stacked_\" + model_name + \"_\" + stack_modeles\n",
        "if(apply_CNN):\n",
        "  model_name = \"CNN_\" + model_name \n",
        "\n",
        "print(model_name + \" for \" + technique + \" detection\")\n",
        "\n",
        "if technique == \"humor\" :\n",
        "  NO_OUTPUT_LAYERS = 2\n",
        "else :\n",
        "  NO_OUTPUT_LAYERS = 3"
      ],
      "execution_count": null,
      "outputs": [
        {
          "output_type": "stream",
          "text": [
            "CNN_LSTM_model for humor detection\n"
          ],
          "name": "stdout"
        }
      ]
    },
    {
      "cell_type": "markdown",
      "metadata": {
        "id": "p7y2rE1vNZWc"
      },
      "source": [
        "# Folder Paths"
      ]
    },
    {
      "cell_type": "code",
      "metadata": {
        "id": "gWPD3dgEqB5d"
      },
      "source": [
        "data_path = \"/content/drive/Shareddrives/FYP-CodeStars/Annotations/Himashi/Tagged - Sentences.csv\"\n",
        "folder_path = \"/content/drive/Shareddrives/FYP/\"\n",
        "\n",
        "context = 5\n",
        "word_embedding_path = folder_path + \"embedding_models/\" + embedding_type + \"/embedding_\"+embedding_type+\"_\"+str(EMBEDDING_SIZE)\n",
        "word_embedding_keydvectors_path = folder_path + \"embedding_models/\" + embedding_type + \"/keyed_vectors/\" +  \"embedding_\" + embedding_type + \"_\" + str(EMBEDDING_SIZE)\n",
        "embedding_matrix_path = folder_path + 'embedding_matrix/'+embedding_type+'_'+str(EMBEDDING_SIZE)\n",
        "\n",
        "experiment_name = str(experiment_no) + \"_\"+ model_name +\"_\"+embedding_type+\"_\"+str(EMBEDDING_SIZE)+\"_\"+str(context)\n",
        "model_save_path = folder_path + \"saved_models/\"+experiment_name+\".hdf5\""
      ],
      "execution_count": null,
      "outputs": []
    },
    {
      "cell_type": "markdown",
      "metadata": {
        "id": "0BYvE-D5QAc0"
      },
      "source": [
        "# Dependencies"
      ]
    },
    {
      "cell_type": "code",
      "metadata": {
        "id": "Cf2gZocJff8x"
      },
      "source": [
        "# !pip install tensorflow==1.15.2\n",
        "# !pip install q keras==2.3.1"
      ],
      "execution_count": null,
      "outputs": []
    },
    {
      "cell_type": "code",
      "metadata": {
        "colab": {
          "base_uri": "https://localhost:8080/"
        },
        "id": "gZ9YDtD6qn4t",
        "outputId": "78522e8c-5c32-4745-fef1-bbf3d97b5045"
      },
      "source": [
        "from __future__ import print_function\n",
        "if (Host == \"colab\"):\n",
        "  from google.colab import drive\n",
        "  drive.mount('/content/drive')\n",
        "\n",
        "import collections\n",
        "import pickle\n",
        "import re\n",
        "import random\n",
        "import sys\n",
        "import os \n",
        "import time\n",
        "\n",
        "import gensim\n",
        "from gensim.models.keyedvectors import KeyedVectors\n",
        "from gensim.models.fasttext import FastText\n",
        "from gensim.models import word2vec\n",
        "\n",
        "from sklearn.model_selection import train_test_split,cross_val_score, cross_val_predict, KFold, GridSearchCV\n",
        "from sklearn.metrics import accuracy_score, f1_score, precision_score, recall_score, classification_report, confusion_matrix,precision_recall_fscore_support\n",
        "\n",
        "import pandas as pd\n",
        "import numpy as np\n",
        "from numpy import array\n",
        "from numpy import asarray\n",
        "from numpy import zeros\n",
        "from numpy import cumsum\n",
        "\n",
        "import tensorflow as tf\n",
        "import keras\n",
        "from keras import backend as K\n",
        "from keras.models import Sequential,Model,load_model\n",
        "from keras.preprocessing.text import Tokenizer\n",
        "from keras.preprocessing.sequence import pad_sequences\n",
        "from keras.layers import Dropout, Activation, Flatten, \\\n",
        "    Embedding, Convolution1D, MaxPooling1D, AveragePooling1D, \\\n",
        "    Input, Dense, merge, Add,TimeDistributed, Bidirectional,SpatialDropout1D\n",
        "from keras.layers.recurrent import LSTM, GRU, SimpleRNN\n",
        "from keras.regularizers import l2, l1_l2\n",
        "from keras.constraints import maxnorm\n",
        "from keras import callbacks\n",
        "from keras.utils import generic_utils \n",
        "from tensorflow.keras.utils import plot_model\n",
        "from keras.optimizers import Adadelta\n",
        "from keras.callbacks import ModelCheckpoint,EarlyStopping\n",
        "from keras.wrappers.scikit_learn import KerasClassifier\n",
        "\n",
        "import matplotlib.image  as mpimg\n",
        "import matplotlib.pyplot as plt"
      ],
      "execution_count": null,
      "outputs": [
        {
          "output_type": "stream",
          "text": [
            "Drive already mounted at /content/drive; to attempt to forcibly remount, call drive.mount(\"/content/drive\", force_remount=True).\n"
          ],
          "name": "stdout"
        }
      ]
    },
    {
      "cell_type": "markdown",
      "metadata": {
        "id": "xXiAlHRZ7X_p"
      },
      "source": [
        "# Load Data"
      ]
    },
    {
      "cell_type": "code",
      "metadata": {
        "colab": {
          "base_uri": "https://localhost:8080/",
          "height": 406
        },
        "id": "GqqHP9rwpbdt",
        "outputId": "32a127d8-e39e-4d39-f013-1cf4afb24b81"
      },
      "source": [
        "columns_to_remove = ['Sentiment', 'Comment_ID']\n",
        "\n",
        "if (technique == \"humor\"):\n",
        "  columns_to_remove.append(\"Wheher_Offensive\")\n",
        "else:\n",
        "  columns_to_remove.append(\"Whether_Humorous\")\n",
        "\n",
        "data = pd.read_csv(data_path)\n",
        "data = data.drop(columns=columns_to_remove)\n",
        "data.columns = ['id', 'comment', 'label']\n",
        "data\n",
        "# data.shape"
      ],
      "execution_count": null,
      "outputs": [
        {
          "output_type": "execute_result",
          "data": {
            "text/html": [
              "<div>\n",
              "<style scoped>\n",
              "    .dataframe tbody tr th:only-of-type {\n",
              "        vertical-align: middle;\n",
              "    }\n",
              "\n",
              "    .dataframe tbody tr th {\n",
              "        vertical-align: top;\n",
              "    }\n",
              "\n",
              "    .dataframe thead th {\n",
              "        text-align: right;\n",
              "    }\n",
              "</style>\n",
              "<table border=\"1\" class=\"dataframe\">\n",
              "  <thead>\n",
              "    <tr style=\"text-align: right;\">\n",
              "      <th></th>\n",
              "      <th>id</th>\n",
              "      <th>comment</th>\n",
              "      <th>label</th>\n",
              "    </tr>\n",
              "  </thead>\n",
              "  <tbody>\n",
              "    <tr>\n",
              "      <th>0</th>\n",
              "      <td>1</td>\n",
              "      <td>Dialog ViU App එක download කරගෙන ඔබ කැමතිම සිං...</td>\n",
              "      <td>Non humorous</td>\n",
              "    </tr>\n",
              "    <tr>\n",
              "      <th>1</th>\n",
              "      <td>2</td>\n",
              "      <td>Mulinma honda sewawak lebuna ..</td>\n",
              "      <td>Non humorous</td>\n",
              "    </tr>\n",
              "    <tr>\n",
              "      <th>2</th>\n",
              "      <td>3</td>\n",
              "      <td>den slwo</td>\n",
              "      <td>Non humorous</td>\n",
              "    </tr>\n",
              "    <tr>\n",
              "      <th>3</th>\n",
              "      <td>4</td>\n",
              "      <td>oba aythanye sewaya ayathanaya wisinma බාල kar...</td>\n",
              "      <td>Non humorous</td>\n",
              "    </tr>\n",
              "    <tr>\n",
              "      <th>4</th>\n",
              "      <td>5</td>\n",
              "      <td>anekuth network walta wada hondata thibunu par...</td>\n",
              "      <td>Non humorous</td>\n",
              "    </tr>\n",
              "    <tr>\n",
              "      <th>...</th>\n",
              "      <td>...</td>\n",
              "      <td>...</td>\n",
              "      <td>...</td>\n",
              "    </tr>\n",
              "    <tr>\n",
              "      <th>95</th>\n",
              "      <td>96</td>\n",
              "      <td>If my3 will select for president first thing 2...</td>\n",
              "      <td>Non humorous</td>\n",
              "    </tr>\n",
              "    <tr>\n",
              "      <th>96</th>\n",
              "      <td>97</td>\n",
              "      <td>අනේ පලඩෝ යන්න තොපිලා කඩේ යනවා හිකනල්ලු.</td>\n",
              "      <td>Humorous</td>\n",
              "    </tr>\n",
              "    <tr>\n",
              "      <th>97</th>\n",
              "      <td>98</td>\n",
              "      <td>ලැජ්ජ නැද්ද ආහ් පර වැඩ කරන්නේ.</td>\n",
              "      <td>Non humorous</td>\n",
              "    </tr>\n",
              "    <tr>\n",
              "      <th>98</th>\n",
              "      <td>99</td>\n",
              "      <td>නිකන් පසික්කාඩු වැඩ කරන්න එපා අයිසේ බොලා වගේ න...</td>\n",
              "      <td>Non humorous</td>\n",
              "    </tr>\n",
              "    <tr>\n",
              "      <th>99</th>\n",
              "      <td>100</td>\n",
              "      <td>We All Hate Dialog</td>\n",
              "      <td>Non humorous</td>\n",
              "    </tr>\n",
              "  </tbody>\n",
              "</table>\n",
              "<p>100 rows × 3 columns</p>\n",
              "</div>"
            ],
            "text/plain": [
              "     id                                            comment         label\n",
              "0     1  Dialog ViU App එක download කරගෙන ඔබ කැමතිම සිං...  Non humorous\n",
              "1     2                    Mulinma honda sewawak lebuna ..  Non humorous\n",
              "2     3                                           den slwo  Non humorous\n",
              "3     4  oba aythanye sewaya ayathanaya wisinma බාල kar...  Non humorous\n",
              "4     5  anekuth network walta wada hondata thibunu par...  Non humorous\n",
              "..  ...                                                ...           ...\n",
              "95   96  If my3 will select for president first thing 2...  Non humorous\n",
              "96   97            අනේ පලඩෝ යන්න තොපිලා කඩේ යනවා හිකනල්ලු.      Humorous\n",
              "97   98                     ලැජ්ජ නැද්ද ආහ් පර වැඩ කරන්නේ.  Non humorous\n",
              "98   99  නිකන් පසික්කාඩු වැඩ කරන්න එපා අයිසේ බොලා වගේ න...  Non humorous\n",
              "99  100                                 We All Hate Dialog  Non humorous\n",
              "\n",
              "[100 rows x 3 columns]"
            ]
          },
          "metadata": {
            "tags": []
          },
          "execution_count": 5
        }
      ]
    },
    {
      "cell_type": "markdown",
      "metadata": {
        "id": "Zk1Up-Co0r3t"
      },
      "source": [
        "## Count Tokens"
      ]
    },
    {
      "cell_type": "code",
      "metadata": {
        "id": "KS7TzP2tyhF6"
      },
      "source": [
        "# data_path = folder_path + \"corpus/new/preprocess_from_isuru/gossip_lanka_all_comments.csv\"\n",
        "# # \"corpus/new/preprocess_from_isuru/lankadeepa_comments_with_article_2.csv\"\n",
        "# data = pd.read_csv(data_path)\n",
        "\n",
        "# def count_tokens(pandas_df):\n",
        "\n",
        "#   count = 0\n",
        "#   for index, row in pandas_df.iterrows():\n",
        "#     comment_words,article_words = 0,0\n",
        "#     if (type(row['comment']) == str) :\n",
        "#       comment_words = len(row['comment'].split())\n",
        "#     # if (type(row['article']) == str) :\n",
        "#     #   article_words = len(row['article'].split())\n",
        "#     count += (comment_words + article_words)\n",
        "#   return count\n",
        "\n",
        "# tokens = count_tokens(data)\n",
        "# print(tokens)"
      ],
      "execution_count": null,
      "outputs": []
    },
    {
      "cell_type": "code",
      "metadata": {
        "id": "UTRgXvPTbzi3"
      },
      "source": [
        "# all_data_path = folder_path + \n",
        "# \"corpus/new/tagged_comments_all_with_punctuation_marks.csv\" done\n",
        "# \"corpus/new/tagged_comments_all_with_punctuation_marks_question_only.csv\"\n",
        "# corpus/new/tagged_comments_all_without_punctuation_marks.csv\n",
        "\n",
        "# all_data = pd.read_csv(all_data_path)"
      ],
      "execution_count": null,
      "outputs": []
    },
    {
      "cell_type": "markdown",
      "metadata": {
        "id": "hwtwg7MaUg_7"
      },
      "source": [
        "## Some other Preprocessing "
      ]
    },
    {
      "cell_type": "code",
      "metadata": {
        "id": "-3GJxgz7TyXP"
      },
      "source": [
        "# all_data['comment'] = all_data['comment'].str.replace('?', '')"
      ],
      "execution_count": null,
      "outputs": []
    },
    {
      "cell_type": "code",
      "metadata": {
        "id": "ZCCrt693RmRT"
      },
      "source": [
        "# all_data.to_csv(folder_path + 'corpus/new/tagged_comments_all_without_punctuation_marks.csv')"
      ],
      "execution_count": null,
      "outputs": []
    },
    {
      "cell_type": "code",
      "metadata": {
        "id": "Kxm16KdZVIWo"
      },
      "source": [
        "# all_data['label'].value_counts()\n",
        "# set(lankadeepa_data.comment.apply(list).sum())"
      ],
      "execution_count": null,
      "outputs": []
    },
    {
      "cell_type": "markdown",
      "metadata": {
        "id": "Shq4w6GcqbIq"
      },
      "source": [
        "# Create Input"
      ]
    },
    {
      "cell_type": "markdown",
      "metadata": {
        "id": "IHqkf0XG8dqL"
      },
      "source": [
        "## comment-label split"
      ]
    },
    {
      "cell_type": "code",
      "metadata": {
        "id": "y9ynks11qZ-e"
      },
      "source": [
        "# edit this later \n",
        "def text_preprocessing(train_data,test_data):\n",
        "  train_data_texts = train_data['comment']\n",
        "  train_data_labels = train_data['label']\n",
        "  test_data_texts = test_data['comment']\n",
        "  test_data_labels = test_data['label']\n",
        "\n",
        "\n",
        "  comment_texts = []\n",
        "  comment_labels = []\n",
        "\n",
        "  train_text = []\n",
        "  test_text = []\n",
        "  train_labels=[]\n",
        "  test_labels=[]\n",
        "\n",
        "  for label in train_data_labels:\n",
        "    if label == \"POSITIVE\":\n",
        "      train_labels.append(1)\n",
        "    else:\n",
        "      train_labels.append(0)\n",
        "  comment_labels.append(train_labels)\n",
        "\n",
        "  for label in test_data_labels:\n",
        "    if label == \"POSITIVE\":\n",
        "      test_labels.append(1)\n",
        "    else:\n",
        "      test_labels.append(0)\n",
        "  comment_labels.append(test_labels)\n",
        "  \n",
        "\n",
        "  for comment in train_data_texts:\n",
        "    lines = []\n",
        "    try:\n",
        "      words = comment.split()\n",
        "      lines += words\n",
        "    except:\n",
        "      continue\n",
        "    train_text.append(lines)\n",
        "  comment_texts.append(train_text)\n",
        "\n",
        "  for comment in test_data_texts:\n",
        "    lines = []\n",
        "    try:\n",
        "      words = comment.split()\n",
        "      lines += words\n",
        "    except:\n",
        "      continue\n",
        "    test_text.append(lines)\n",
        "  comment_texts.append(test_text)\n",
        "\n",
        "\n",
        "  return comment_texts,comment_labels\n",
        "\n",
        "# edit this later \n",
        "def text_preprocessing_1(data):\n",
        "  comments = data['comment']\n",
        "  labels = data['label']\n",
        "\n",
        "  comments_splitted = []\n",
        "  labels_encoded = []\n",
        "\n",
        "  for label in labels:\n",
        "    if label == \"POSITIVE\":\n",
        "      labels_encoded.append(1)\n",
        "    else:\n",
        "      labels_encoded.append(0)\n",
        "\n",
        "  for comment in comments:\n",
        "    lines = []\n",
        "    try:\n",
        "      words = comment.split()\n",
        "      lines += words\n",
        "    except:\n",
        "      continue\n",
        "    comments_splitted.append(lines)\n",
        "  return comments_splitted,labels_encoded\n",
        "\n",
        "\n",
        "def text_preprocessing_2(data):\n",
        "  comments = data['comment']\n",
        "  labels = data['label']\n",
        "\n",
        "  comments_splitted = []\n",
        "\n",
        "  for comment in comments:\n",
        "    lines = []\n",
        "    try:\n",
        "      words = comment.split()\n",
        "      lines += words\n",
        "    except:\n",
        "      continue\n",
        "    comments_splitted.append(lines)\n",
        "\n",
        "  return comments_splitted,labels"
      ],
      "execution_count": null,
      "outputs": []
    },
    {
      "cell_type": "markdown",
      "metadata": {
        "id": "LdKgzrbd8Uy8"
      },
      "source": [
        "## Takenize and Split Data"
      ]
    },
    {
      "cell_type": "code",
      "metadata": {
        "colab": {
          "base_uri": "https://localhost:8080/"
        },
        "id": "BZoOqtodrUY1",
        "outputId": "11334a25-8f32-42f1-ecda-261ed7b592c2"
      },
      "source": [
        "comment_texts, comment_labels = text_preprocessing_2(data)\n",
        "\n",
        "# prepare tokenizer\n",
        "\n",
        "t = Tokenizer()\n",
        "t.fit_on_texts(comment_texts)\n",
        "vocab_size = len(t.word_index) + 1\n",
        "print(vocab_size)"
      ],
      "execution_count": null,
      "outputs": [
        {
          "output_type": "stream",
          "text": [
            "622\n"
          ],
          "name": "stdout"
        }
      ]
    },
    {
      "cell_type": "code",
      "metadata": {
        "id": "UMhZbzGur4kt"
      },
      "source": [
        "encoded_docs = t.texts_to_sequences(comment_texts)"
      ],
      "execution_count": null,
      "outputs": []
    },
    {
      "cell_type": "code",
      "metadata": {
        "id": "Ho5NTzHtsKoN"
      },
      "source": [
        "max_length = len(max(encoded_docs, key=len))\n",
        "padded_docs = pad_sequences(encoded_docs, maxlen=max_length)\n",
        "\n",
        "comment_labels = np.array(comment_labels)\n",
        "padded_docs = np.array(padded_docs)"
      ],
      "execution_count": null,
      "outputs": []
    },
    {
      "cell_type": "code",
      "metadata": {
        "colab": {
          "base_uri": "https://localhost:8080/"
        },
        "id": "gBRINFtdvEQS",
        "outputId": "ee5ee0b3-ab2b-44a5-a737-96b7d5d05fbd"
      },
      "source": [
        "comment_labels = pd.get_dummies(comment_labels).values\n",
        "# print(comment_labels)\n",
        "print('Shape of label tensor:', comment_labels.shape)"
      ],
      "execution_count": null,
      "outputs": [
        {
          "output_type": "stream",
          "text": [
            "Shape of label tensor: (100, 2)\n"
          ],
          "name": "stdout"
        }
      ]
    },
    {
      "cell_type": "code",
      "metadata": {
        "id": "Drgv_J0ZUV8j"
      },
      "source": [
        "X_train, X_test, y_train, y_test = train_test_split(padded_docs, comment_labels, test_size=0.1, random_state=0)"
      ],
      "execution_count": null,
      "outputs": []
    },
    {
      "cell_type": "code",
      "metadata": {
        "colab": {
          "base_uri": "https://localhost:8080/"
        },
        "id": "49a_GcIvkmch",
        "outputId": "7060bffb-ca5e-4e0a-9507-0ba711ed2fb1"
      },
      "source": [
        "(unique, counts) = np.unique(y_train, return_counts = True)\n",
        "frequencies = np.asarray((unique, counts)).T\n",
        "print(frequencies)"
      ],
      "execution_count": null,
      "outputs": [
        {
          "output_type": "stream",
          "text": [
            "[[ 0 90]\n",
            " [ 1 90]]\n"
          ],
          "name": "stdout"
        }
      ]
    },
    {
      "cell_type": "markdown",
      "metadata": {
        "id": "91fqgdk67oaZ"
      },
      "source": [
        "# Word Embedding"
      ]
    },
    {
      "cell_type": "markdown",
      "metadata": {
        "id": "sPm_9b6Y8EPi"
      },
      "source": [
        "## Generate Embedding Metrix"
      ]
    },
    {
      "cell_type": "code",
      "metadata": {
        "id": "kOB0YKL-fNW5"
      },
      "source": [
        "def generate_embedding_metrix():\n",
        "\n",
        "  if (embedding_type == 'fasttext'):\n",
        "    word_embedding_model = FastText.load(word_embedding_path)\n",
        "  else:\n",
        "    word_embedding_model = word2vec.Word2Vec.load(word_embedding_path)\n",
        "    \n",
        "  word_vectors = word_embedding_model.wv\n",
        "  word_vectors.save(word_embedding_keydvectors_path)\n",
        "  word_vectors = KeyedVectors.load(word_embedding_keydvectors_path, mmap='r')\n",
        "\n",
        "  embeddings_index = dict()\n",
        "  for word, vocab_obj in word_vectors.vocab.items():\n",
        "    embeddings_index[word]=word_vectors[word]\n",
        "\n",
        "  # create a weight matrix for words in training docs\n",
        "  embedding_matrix = zeros((vocab_size, EMBEDDING_SIZE))\n",
        "  for word, i in t.word_index.items():\n",
        "    embedding_vector = embeddings_index.get(word)\n",
        "    if embedding_vector is not None:\n",
        "      embedding_matrix[i] = embedding_vector\n",
        "\n",
        "  pickle.dump(embedding_matrix, open(embedding_matrix_path, 'wb'))\n",
        "  return embedding_matrix"
      ],
      "execution_count": null,
      "outputs": []
    },
    {
      "cell_type": "markdown",
      "metadata": {
        "id": "wVYEOwiN8H3s"
      },
      "source": [
        "## Load Embedding Matrix"
      ]
    },
    {
      "cell_type": "code",
      "metadata": {
        "id": "YNSwoRM292-u"
      },
      "source": [
        "def load_word_embedding_atrix():\n",
        "  f = open(embedding_matrix_path, 'rb')\n",
        "  embedding_matrix= np.array(pickle.load(f))\n",
        "  return embedding_matrix"
      ],
      "execution_count": null,
      "outputs": []
    },
    {
      "cell_type": "markdown",
      "metadata": {
        "id": "lrmGuYXf82E_"
      },
      "source": [
        "# Models"
      ]
    },
    {
      "cell_type": "markdown",
      "metadata": {
        "id": "hx80tScO_ddi"
      },
      "source": [
        "## RNN(LSTM/GRU) model"
      ]
    },
    {
      "cell_type": "code",
      "metadata": {
        "id": "K9elMDrR_laX"
      },
      "source": [
        "def RNN_model(RNN_layer, maxlen, hidden_dims, l2_reg, drop_out_value_1, drop_out_value_2):\n",
        "    main_input = Input(shape=(maxlen, ), dtype='int32', name='main_input')\n",
        "    embedding  = Embedding(MAX_FEATURES, EMBEDDING_SIZE,\n",
        "                  weights=[EMBEDDING_MATRIX], input_length=maxlen,\n",
        "                  name='embedding' ,trainable=False)(main_input)\n",
        "\n",
        "    embedding = Dropout(drop_out_value_1)(embedding)\n",
        "\n",
        "    x = RNN_layer(hidden_dims)(embedding)\n",
        "\n",
        "    x = Dense(hidden_dims, activation='relu', kernel_initializer='he_normal', \n",
        "              kernel_constraint = maxnorm(3), bias_constraint=maxnorm(3),\n",
        "              name='mlp')(x)\n",
        "\n",
        "    x = Dropout(drop_out_value_2, name='drop')(x)\n",
        "\n",
        "    output = Dense(NO_OUTPUT_LAYERS, kernel_initializer='he_normal',\n",
        "                   activation='softmax', name='output')(x)\n",
        "\n",
        "    model = Model(inputs=main_input, outputs=output ,name=\"RNN_model\")\n",
        "\n",
        "    model.compile(loss={'output':'categorical_crossentropy'},\n",
        "              optimizer=Adadelta(lr=0.95, epsilon=1e-06),\n",
        "              metrics=[\"accuracy\",\n",
        "                       tf.keras.metrics.Precision(),\n",
        "                        tf.keras.metrics.Recall(),\n",
        "                       f1])\n",
        "    \n",
        "    print(model.summary())\n",
        "    return model\n",
        "\n",
        "def stacked_RNN_model_2(RNN_layer, maxlen, hidden_dims, l2_reg, drop_out_value_1, drop_out_value_2):\n",
        "    main_input = Input(shape=(maxlen, ), dtype='int32', name='main_input')\n",
        "    embedding  = Embedding(MAX_FEATURES, EMBEDDING_SIZE,\n",
        "                  weights=[EMBEDDING_MATRIX], input_length=maxlen,\n",
        "                  name='embedding' ,trainable=False)(main_input)\n",
        "\n",
        "    embedding = Dropout(drop_out_value_1)(embedding)\n",
        "\n",
        "    x = RNN_layer(hidden_dims,return_sequences=True)(embedding)\n",
        "    x = RNN_layer(hidden_dims)(x)\n",
        "\n",
        "    x = Dense(hidden_dims, activation='relu', kernel_initializer='he_normal',\n",
        "              kernel_constraint = maxnorm(3), bias_constraint=maxnorm(3),\n",
        "              name='mlp')(x)\n",
        "\n",
        "    x = Dropout(drop_out_value_2, name='drop')(x)\n",
        "\n",
        "    output = Dense(NO_OUTPUT_LAYERS, kernel_initializer='he_normal',\n",
        "                   activation='softmax', name='output')(x)\n",
        "\n",
        "    model = Model(inputs=main_input, outputs=output, name= \"stacked_RNN_model_2\")\n",
        "\n",
        "    model.compile(loss={'output':'categorical_crossentropy'},\n",
        "          optimizer=Adadelta(lr=0.95, epsilon=1e-06),\n",
        "          metrics=[\"accuracy\",\n",
        "                       tf.keras.metrics.Precision(),\n",
        "                        tf.keras.metrics.Recall(),\n",
        "                       f1])\n",
        "\n",
        "    print(model.summary())\n",
        "    return model\n",
        "\n",
        "def stacked_RNN_model_3(RNN_layer, maxlen, hidden_dims, l2_reg, drop_out_value_1, drop_out_value_2):\n",
        "    main_input = Input(shape=(maxlen, ), dtype='int32', name='main_input')\n",
        "    embedding  = Embedding(MAX_FEATURES, EMBEDDING_SIZE,\n",
        "                  weights=[EMBEDDING_MATRIX], input_length=maxlen,\n",
        "                  name='embedding' ,trainable=False)(main_input)\n",
        "\n",
        "    embedding = Dropout(drop_out_value_1)(embedding)\n",
        "\n",
        "    x = RNN_layer(hidden_dims,return_sequences=True)(embedding)\n",
        "    x = RNN_layer(hidden_dims,return_sequences=True)(x)\n",
        "    x = RNN_layer(hidden_dims)(x)\n",
        "\n",
        "    x = Dense(hidden_dims, activation='relu', kernel_initializer='he_normal',\n",
        "              kernel_constraint = maxnorm(3), bias_constraint=maxnorm(3),\n",
        "              name='mlp')(x)\n",
        "\n",
        "    x = Dropout(drop_out_value_2, name='drop')(x)\n",
        "\n",
        "    output = Dense(NO_OUTPUT_LAYERS, kernel_initializer='he_normal',\n",
        "                   activation='softmax', name='output')(x)\n",
        "\n",
        "    model = Model(inputs=main_input, outputs=output, name=\"stacked_RNN_model_3\")\n",
        "\n",
        "    model.compile(loss={'output':'categorical_crossentropy'},\n",
        "      optimizer=Adadelta(lr=0.95, epsilon=1e-06),\n",
        "      metrics=[\"accuracy\",\n",
        "                    tf.keras.metrics.Precision(),\n",
        "                    tf.keras.metrics.Recall(),\n",
        "                    f1])\n",
        "\n",
        "    print(model.summary())\n",
        "    return model"
      ],
      "execution_count": null,
      "outputs": []
    },
    {
      "cell_type": "markdown",
      "metadata": {
        "id": "Pt3TZsP84gRK"
      },
      "source": [
        "## CNN+RNN(LSTM /GRU) model "
      ]
    },
    {
      "cell_type": "code",
      "metadata": {
        "id": "m3v2boPz4frA"
      },
      "source": [
        "def CNN_RNN_model(RNN_layer, maxlen, hidden_dims, l2_reg, drop_out_value_1, drop_out_value_2):\n",
        "    main_input = Input(shape=(maxlen, ), dtype='int32', name='main_input')\n",
        "    embedding  = Embedding(MAX_FEATURES, EMBEDDING_SIZE,\n",
        "                  weights=[EMBEDDING_MATRIX], input_length=maxlen,\n",
        "                  name='embedding' ,trainable=False)(main_input)\n",
        "\n",
        "    embedding = Dropout(drop_out_value_1)(embedding)\n",
        "\n",
        "    conv4 = Convolution1D(NB_FILTERS,\n",
        "                          4,\n",
        "                          padding='valid',\n",
        "                          activation='relu',\n",
        "                          strides=1,\n",
        "                          name='conv4')(embedding)\n",
        "    maxConv4 = MaxPooling1D(pool_size=2,\n",
        "                             name='maxConv4')(conv4)\n",
        "\n",
        "    conv5 = Convolution1D(NB_FILTERS,\n",
        "                          5,\n",
        "                          padding='valid',\n",
        "                          activation='relu',\n",
        "                          strides=1,\n",
        "                          name='conv5')(embedding)\n",
        "    maxConv5 = MaxPooling1D(pool_size=2,\n",
        "                            name='maxConv5')(conv5)\n",
        "\n",
        "    x = keras.layers.Concatenate(axis=1)([maxConv4, maxConv5])\n",
        "\n",
        "    x = Dropout(drop_out_value_2)(x)\n",
        "\n",
        "    x = RNN_layer(hidden_dims)(x) #rnn_output_size\n",
        "\n",
        "\n",
        "    x = Dense(hidden_dims, activation='relu', kernel_initializer='he_normal',\n",
        "              kernel_constraint = maxnorm(3), bias_constraint=maxnorm(3),\n",
        "              name='mlp')(x)\n",
        "\n",
        "    x = Dropout(drop_out_value_2, name='drop')(x)\n",
        "\n",
        "    output = Dense(NO_OUTPUT_LAYERS, kernel_initializer='he_normal',\n",
        "                   activation='softmax', name='output')(x)\n",
        "\n",
        "    model = Model(inputs=main_input, outputs=output, name= \"CNN_RNN_model\")\n",
        "\n",
        "    model.compile(loss={'output':'categorical_crossentropy'},\n",
        "      optimizer=Adadelta(lr=0.95, epsilon=1e-06),\n",
        "      metrics=[\"accuracy\",\n",
        "                    tf.keras.metrics.Precision(),\n",
        "                    tf.keras.metrics.Recall(),\n",
        "                    f1])\n",
        "\n",
        "    return model"
      ],
      "execution_count": null,
      "outputs": []
    },
    {
      "cell_type": "markdown",
      "metadata": {
        "id": "WC0ZRhKe5a6C"
      },
      "source": [
        "# Train and Evaluate Model"
      ]
    },
    {
      "cell_type": "markdown",
      "metadata": {
        "id": "jbpLZfOPGGKN"
      },
      "source": [
        "## Custom F1 Implementation"
      ]
    },
    {
      "cell_type": "code",
      "metadata": {
        "id": "O0sMLlLvEGKq"
      },
      "source": [
        "def f1(y_true, y_pred):\n",
        "    def recall(y_true, y_pred):\n",
        "        \"\"\"Recall metric.\n",
        "\n",
        "        Only computes a batch-wise average of recall.\n",
        "\n",
        "        Computes the recall, a metric for multi-label classification of\n",
        "        how many relevant items are selected.\n",
        "        \"\"\"\n",
        "        true_positives = K.sum(K.round(K.clip(y_true * y_pred, 0, 1)))\n",
        "        possible_positives = K.sum(K.round(K.clip(y_true, 0, 1)))\n",
        "        recall = true_positives / (possible_positives + K.epsilon())\n",
        "        return recall\n",
        "\n",
        "    def precision(y_true, y_pred):\n",
        "        \"\"\"Precision metric.\n",
        "\n",
        "        Only computes a batch-wise average of precision.\n",
        "\n",
        "        Computes the precision, a metric for multi-label classification of\n",
        "        how many selected items are relevant.\n",
        "        \"\"\"\n",
        "        true_positives = K.sum(K.round(K.clip(y_true * y_pred, 0, 1)))\n",
        "        predicted_positives = K.sum(K.round(K.clip(y_pred, 0, 1)))\n",
        "        precision = true_positives / (predicted_positives + K.epsilon())\n",
        "        return precision\n",
        "    precision = precision(y_true, y_pred)\n",
        "    recall = recall(y_true, y_pred)\n",
        "    return 2*((precision*recall)/(precision+recall+K.epsilon()))"
      ],
      "execution_count": null,
      "outputs": []
    },
    {
      "cell_type": "markdown",
      "metadata": {
        "id": "fqK6yZoCHIyE"
      },
      "source": [
        "## Train and Validate model"
      ]
    },
    {
      "cell_type": "code",
      "metadata": {
        "id": "LhOLwIC-5aiD"
      },
      "source": [
        "def Train_Model_old(model,X_train, X_test, y_train, y_test):\n",
        "\n",
        "  print('Training and Testing...')\n",
        "  test_accs = []\n",
        "  first_run = True\n",
        "\n",
        "\n",
        "  acc=[]\n",
        "  val_acc=[]\n",
        "  loss=[]\n",
        "  val_loss=[]\n",
        "  best_val_acc = 0\n",
        "  best_test_acc = 0\n",
        "  for j in range(nb_epoch):\n",
        "      a = time.time()\n",
        "      his = model.fit(X_train, y_train,\n",
        "                      batch_size=batch_size,\n",
        "                      validation_data=[X_test, y_test],\n",
        "                      shuffle=True,\n",
        "                      epochs=1, verbose=verbosity)\n",
        "      acc+=his.history['accuracy']\n",
        "      val_acc+=his.history['val_accuracy']\n",
        "      loss+=his.history['loss']\n",
        "      val_loss+=his.history['val_loss']\n",
        "      # print('Epoch %d/%d\\t%s' % (j + 1, nb_epoch, str(his.history)))\n",
        "      if his.history['val_accuracy'][0] >= best_val_acc:\n",
        "          score, test_acc = model.evaluate(X_test, y_test,\n",
        "                                      batch_size=batch_size,\n",
        "                                      verbose=2)\n",
        "          best_val_acc = his.history['val_accuracy'][0]\n",
        "          best_test_acc = test_acc\n",
        "          print('Got best epoch  best val acc is %f test acc is %f' %\n",
        "                (best_val_acc, best_test_acc))\n",
        "          if len(test_accs) > 0:\n",
        "              print('Current avg test acc:', str(np.mean(test_accs)))\n",
        "      b = time.time()\n",
        "      cost = b - a\n",
        "      left = (nb_epoch - j - 1)\n",
        "      print('One round cost %ds, %d round %ds %dmin left' % (cost, left,\n",
        "                                                            cost * left,\n",
        "                                                            cost * left / 60.0))\n",
        "      test_accs.append(best_test_acc)\n",
        "\n",
        "  print('Avg test acc:', str(np.mean(test_accs)))\n",
        "  return model"
      ],
      "execution_count": null,
      "outputs": []
    },
    {
      "cell_type": "code",
      "metadata": {
        "id": "XTuRxzncQc5q"
      },
      "source": [
        "def Train_Model(model,X_train, y_train, cross_validation = False):\n",
        "\n",
        "  print('Training and Testing...')\n",
        "  print (model_save_path)\n",
        "  es = EarlyStopping(monitor='val_f1', mode='max', verbose=1, patience=5)\n",
        "  checkpoint = ModelCheckpoint(model_save_path, monitor='val_f1', verbose=1, save_best_only=True, mode='max')\n",
        "  callbacks_list = [checkpoint,es]\n",
        "\n",
        "  if (cross_validation):\n",
        "    callbacks_list = [es]\n",
        "  \n",
        "  his = model.fit(X_train, y_train, validation_split=VALIDATION_SPLIT, epochs=NB_EPOCHS, batch_size=BATCH_SIZE, callbacks=callbacks_list, verbose=1)\n",
        "  return model,his"
      ],
      "execution_count": null,
      "outputs": []
    },
    {
      "cell_type": "markdown",
      "metadata": {
        "id": "u4DuyDZMkcE3"
      },
      "source": [
        "# Cross Validation"
      ]
    },
    {
      "cell_type": "code",
      "metadata": {
        "id": "4TMmqz8BkTQR"
      },
      "source": [
        "def Do_Cross_Validation(X,y):\n",
        "\n",
        "  # Define per-fold score containers\n",
        "  loss_per_fold = []\n",
        "  acc_per_fold = []\n",
        "  precision_per_fold = []\n",
        "  recall_per_fold = []\n",
        "  f1_per_fold = []\n",
        "  \n",
        "\n",
        "  kfold = KFold(n_splits=FOLDS, shuffle=True, random_state=1)\n",
        "\n",
        "  fold_no = 1\n",
        "  inputs = X\n",
        "  targets = y\n",
        "  for train, test in kfold.split(inputs, targets):\n",
        "\n",
        "    model = build_model()\n",
        "    # model = RNN_model(GRU, MAX_LEN, HIDDEN_DIMS, L2_REG, DROPOUT_VALUE_1, DROPOUT_VALUE_2)\n",
        "    \n",
        "    # RNN_layer, maxlen, hidden_dims, l2_reg, drop_out_value_1, drop_out_value_2\n",
        "\n",
        "    # Generate a print\n",
        "    print('------------------------------------------------------------------------')\n",
        "    print(f'Training for fold {fold_no} ...')\n",
        "\n",
        "    # Fit data to model\n",
        "    model, his = Train_Model(model,inputs[train], targets[train], cross_validation=True)\n",
        " \n",
        "    # Generate generalization metrics\n",
        "    scores = model.evaluate(inputs[test], targets[test], verbose=0)\n",
        "\n",
        "    print(f\"\"\"Score for fold {fold_no}:\n",
        "     {model.metrics_names[0]} of {scores[0]}; \n",
        "     {model.metrics_names[1]} of {scores[1]*100}% ;\n",
        "     {model.metrics_names[2]} of {scores[2]*100}% ;\n",
        "     {model.metrics_names[3]} of {scores[3]*100}% ;\n",
        "     {model.metrics_names[4]} of {scores[4]*100}% ;\n",
        "     \"\"\")\n",
        "    \n",
        "    loss_per_fold.append(scores[0])\n",
        "    acc_per_fold.append(scores[1])\n",
        "    precision_per_fold.append(scores[2])\n",
        "    recall_per_fold.append(scores[3])\n",
        "    f1_per_fold.append(scores[4])\n",
        "\n",
        "    # Increase fold number\n",
        "    fold_no = fold_no + 1\n",
        "\n",
        "  # == Provide average scores ==\n",
        "  print('------------------------------------------------------------------------')\n",
        "  print('Score per fold')\n",
        "  for i in range(0, len(acc_per_fold)):\n",
        "    print('------------------------------------------------------------------------')\n",
        "    print(f\"\"\"> Fold {i+1} - \n",
        "    Loss: {loss_per_fold[i]} - \n",
        "    Accuracy: {acc_per_fold[i]}% - \n",
        "    Precesion: {precision_per_fold[i]}% - \n",
        "    Recall: {recall_per_fold[i]}% - \n",
        "    F1: {f1_per_fold[i]}%\n",
        "    \"\"\")\n",
        "  print('------------------------------------------------------------------------')\n",
        "  print('Average scores for all folds:')\n",
        "  print(f'> Loss: {np.mean(loss_per_fold)}')\n",
        "  print(f'> Accuracy: {np.mean(acc_per_fold)} (+- {np.std(acc_per_fold)})')\n",
        "  print(f'> Precision: {np.mean(precision_per_fold)}')\n",
        "  print(f'> Recall: {np.mean(recall_per_fold)}')\n",
        "  print(f'> F1: {np.mean(f1_per_fold)}')\n",
        "  print('------------------------------------------------------------------------')"
      ],
      "execution_count": null,
      "outputs": []
    },
    {
      "cell_type": "markdown",
      "metadata": {
        "id": "B6CXqtIDR4jS"
      },
      "source": [
        "# Plot Graphs"
      ]
    },
    {
      "cell_type": "code",
      "metadata": {
        "id": "fvl487sr8seD"
      },
      "source": [
        "def Plot_graphs(metric,val_metric,metric_name):\n",
        "\n",
        "  epochs=range(len(metric)) # Get number of epochs\n",
        "\n",
        "  if metric_name == \"accuracy\":\n",
        "    #------------------------------------------------\n",
        "    # Plot training and validation accuracy per epoch\n",
        "    #------------------------------------------------\n",
        "    plt.plot(epochs, metric, 'r')\n",
        "    plt.plot(epochs, val_metric, 'b')\n",
        "    plt.title('Training and validation accuracy')\n",
        "    plt.xlabel(\"Epochs\")\n",
        "    plt.ylabel(\"Accuracy\")\n",
        "    plt.legend([\"Accuracy\", \"Validation Accuracy\"])\n",
        "\n",
        "    plt.figure()\n",
        "\n",
        "  elif metric_name == \"loss\" :\n",
        "    #------------------------------------------------\n",
        "    # Plot training and validation loss per epoch\n",
        "    #------------------------------------------------\n",
        "    plt.plot(epochs, metric, 'r')\n",
        "    plt.plot(epochs, val_metric, 'b')\n",
        "    plt.title('Training and validation loss')\n",
        "    plt.xlabel(\"Epochs\")\n",
        "    plt.ylabel(\"Loss\")\n",
        "    plt.legend([\"Loss\", \"Validation Loss\"])\n",
        "\n",
        "    plt.figure()\n",
        "\n",
        "  elif metric_name == \"f1\" :\n",
        "    #------------------------------------------------\n",
        "    # Plot training and validation loss per epoch\n",
        "    #------------------------------------------------\n",
        "    plt.plot(epochs, metric, 'r')\n",
        "    plt.plot(epochs, val_metric, 'b')\n",
        "    plt.title('Training and validation F1')\n",
        "    plt.xlabel(\"Epochs\")\n",
        "    plt.ylabel(\"F1\")\n",
        "    plt.legend([\"F1\", \"Validation F1\"])\n",
        "\n",
        "    plt.figure()\n",
        "\n",
        "\n",
        "  # Expected Output\n",
        "  # A chart where the validation loss does not increase sharply!"
      ],
      "execution_count": null,
      "outputs": []
    },
    {
      "cell_type": "markdown",
      "metadata": {
        "id": "0RS6GyZ8-mk7"
      },
      "source": [
        "# Main Method"
      ]
    },
    {
      "cell_type": "markdown",
      "metadata": {
        "id": "dN_uGz3CZMCh"
      },
      "source": [
        "## Set Hyper-Parameters"
      ]
    },
    {
      "cell_type": "code",
      "metadata": {
        "id": "85wsS8Mn8oeI"
      },
      "source": [
        "# EMBEDDING_MATRIX = generate_embedding_metrix()\n",
        "EMBEDDING_MATRIX = load_word_embedding_atrix()"
      ],
      "execution_count": null,
      "outputs": []
    },
    {
      "cell_type": "code",
      "metadata": {
        "id": "uueiXUkkWuKl"
      },
      "source": [
        "MAX_FEATURES = EMBEDDING_MATRIX.shape[0] #vocab_size\n",
        "VERBOSITY = 1\n",
        "VALIDATION_SPLIT = 0.1\n",
        "NB_EPOCHS = 10\n",
        "FOLDS = 10\n",
        "\n",
        "BATCH_SIZE = 32 # 64, 128\n",
        "NB_FILTERS = 200\n",
        "FILTER_LENGTH = 3 #4 # test with 2,3,4,5\n",
        "HIDDEN_DIMS = NB_FILTERS * 2\n",
        "MAX_LEN = 22 #210 #test with other values(only this value work for now)\n",
        "DROPOUT_VALUE_1 = 0.5 #0.8 #0.3\n",
        "DROPOUT_VALUE_2 = 0.5\n",
        "L2_REG = 0.01\n",
        "\n",
        "RNN = GRU"
      ],
      "execution_count": null,
      "outputs": []
    },
    {
      "cell_type": "markdown",
      "metadata": {
        "id": "p-x5t7AF_DGO"
      },
      "source": [
        "## Build and Compile Model"
      ]
    },
    {
      "cell_type": "code",
      "metadata": {
        "id": "IuEifQn3Jc98"
      },
      "source": [
        "def build_model() :\n",
        "  model = None\n",
        "\n",
        "  if ((model_type == \"RNN\" or model_type == \"GRU\" or model_type == \"LSTM\" )):\n",
        "    \n",
        "    # configure layer\n",
        "    layer = None\n",
        "    if (model_type == \"RNN\"):\n",
        "      layer = RNN\n",
        "    if (model_type == \"GRU\"):\n",
        "      layer = GRU\n",
        "    if (model_type == \"LSTM\"):\n",
        "      layer = LSTM\n",
        "    \n",
        "    # configure architecture\n",
        "    if (stack_modeles == \"2\"):\n",
        "      model = stacked_RNN_model_2(layer,MAX_LEN, HIDDEN_DIMS, L2_REG, DROPOUT_VALUE_1, DROPOUT_VALUE_2)\n",
        "    elif (stack_modeles == \"3\"):\n",
        "      model = stacked_RNN_model_3(layer,MAX_LEN, HIDDEN_DIMS, L2_REG, DROPOUT_VALUE_1, DROPOUT_VALUE_2)\n",
        "    elif (apply_CNN):\n",
        "      model = CNN_RNN_model(layer,MAX_LEN, HIDDEN_DIMS, L2_REG, DROPOUT_VALUE_1, DROPOUT_VALUE_2)\n",
        "    else :\n",
        "      model = RNN_model(layer,MAX_LEN, HIDDEN_DIMS, L2_REG, DROPOUT_VALUE_1, DROPOUT_VALUE_2)\n",
        "\n",
        "  elif (model_type == \"BiLSTM\" ):\n",
        "\n",
        "    # configure architecture\n",
        "    if (stack_modeles == \"2\"):\n",
        "      model = stacked_BiLSTM_model_2(MAX_LEN, HIDDEN_DIMS, L2_REG, DROPOUT_VALUE_1, DROPOUT_VALUE_2)\n",
        "    elif (stack_modeles == \"3\"):\n",
        "      model = stacked_BiLSTM_model_3(MAX_LEN, HIDDEN_DIMS, L2_REG, DROPOUT_VALUE_1, DROPOUT_VALUE_2)\n",
        "    elif (apply_CNN):\n",
        "      model = CNN_BiLSTM_model(MAX_LEN, HIDDEN_DIMS, L2_REG, DROPOUT_VALUE_1, DROPOUT_VALUE_2)\n",
        "    else :\n",
        "      model = BiLSTM_model(MAX_LEN, HIDDEN_DIMS, L2_REG, DROPOUT_VALUE_1, DROPOUT_VALUE_2)\n",
        "\n",
        "    \n",
        "  return model"
      ],
      "execution_count": null,
      "outputs": []
    },
    {
      "cell_type": "markdown",
      "metadata": {
        "id": "d46ja9NetIpP"
      },
      "source": [
        "## Train and Test Model (Holdout Method)"
      ]
    },
    {
      "cell_type": "code",
      "metadata": {
        "colab": {
          "base_uri": "https://localhost:8080/",
          "height": 1000
        },
        "id": "rV8W-Nthbfh5",
        "outputId": "707cf864-ac1b-4b3c-fb40-f9b81d7fe58d"
      },
      "source": [
        "model = build_model()\n",
        "# model = stacked_RNN_model_3(LSTM, MAX_LEN, HIDDEN_DIMS, L2_REG, DROPOUT_VALUE_1, DROPOUT_VALUE_2)\n",
        "plot_model(model,to_file=\"./model.png\")"
      ],
      "execution_count": null,
      "outputs": [
        {
          "output_type": "stream",
          "text": [
            "/usr/local/lib/python3.7/dist-packages/tensorflow/python/keras/optimizer_v2/optimizer_v2.py:375: UserWarning: The `lr` argument is deprecated, use `learning_rate` instead.\n",
            "  \"The `lr` argument is deprecated, use `learning_rate` instead.\")\n"
          ],
          "name": "stderr"
        },
        {
          "output_type": "execute_result",
          "data": {
            "image/png": "[encoded data removed]",
            "text/plain": [
              "<IPython.core.display.Image object>"
            ]
          },
          "metadata": {
            "tags": []
          },
          "execution_count": 30
        }
      ]
    },
    {
      "cell_type": "markdown",
      "metadata": {
        "id": "G61FNXmM_QSL"
      },
      "source": [
        "### Train Model"
      ]
    },
    {
      "cell_type": "code",
      "metadata": {
        "colab": {
          "base_uri": "https://localhost:8080/",
          "height": 1000
        },
        "id": "ye7IkwWamR2c",
        "outputId": "b3fb964f-362a-44c4-d011-44cd7f8c8be8"
      },
      "source": [
        "# trained_model = Train_Model_old(model,X_train, X_test, y_train, y_test)\n",
        "trained_model, his = Train_Model(model,X_train, y_train, cross_validation = False)\n",
        "\n",
        "accuracy = his.history['accuracy']\n",
        "val_accuracy = his.history['val_accuracy']\n",
        "loss = his.history['loss']\n",
        "val_loss = his.history['val_loss']\n",
        "f1 = his.history['f1']\n",
        "val_f1 = his.history['f1']\n",
        "\n",
        "Plot_graphs(accuracy,val_accuracy, \"accuracy\")\n",
        "Plot_graphs(loss,val_loss, \"loss\")\n",
        "Plot_graphs(f1,val_f1, \"f1\")"
      ],
      "execution_count": null,
      "outputs": [
        {
          "output_type": "stream",
          "text": [
            "Training and Testing...\n",
            "/content/drive/Shareddrives/FYP/saved_models/1_CNN_LSTM_model_fasttext_300_5.hdf5\n",
            "Epoch 1/10\n",
            "3/3 [==============================] - 32s 1s/step - loss: 0.8572 - accuracy: 0.4634 - precision: 0.4260 - recall: 0.4260 - f1: 0.4442 - val_loss: 0.9376 - val_accuracy: 0.4444 - val_precision: 0.4778 - val_recall: 0.4778 - val_f1: 0.4444\n",
            "\n",
            "Epoch 00001: val_f1 improved from -inf to 0.44444, saving model to /content/drive/Shareddrives/FYP/saved_models/1_CNN_LSTM_model_fasttext_300_5.hdf5\n",
            "Epoch 2/10\n",
            "3/3 [==============================] - 1s 361ms/step - loss: 0.6158 - accuracy: 0.7639 - precision: 0.5725 - recall: 0.5725 - f1: 0.7629 - val_loss: 0.7325 - val_accuracy: 0.4444 - val_precision: 0.6111 - val_recall: 0.6111 - val_f1: 0.4444\n",
            "\n",
            "Epoch 00002: val_f1 did not improve from 0.44444\n",
            "Epoch 3/10\n",
            "3/3 [==============================] - 1s 356ms/step - loss: 0.5729 - accuracy: 0.8169 - precision: 0.6574 - recall: 0.6574 - f1: 0.8104 - val_loss: 0.7926 - val_accuracy: 0.4444 - val_precision: 0.6593 - val_recall: 0.6593 - val_f1: 0.4444\n",
            "\n",
            "Epoch 00003: val_f1 did not improve from 0.44444\n",
            "Epoch 4/10\n",
            "3/3 [==============================] - 1s 360ms/step - loss: 0.5969 - accuracy: 0.7119 - precision: 0.6660 - recall: 0.6660 - f1: 0.7193 - val_loss: 0.8437 - val_accuracy: 0.4444 - val_precision: 0.6694 - val_recall: 0.6694 - val_f1: 0.4444\n",
            "\n",
            "Epoch 00004: val_f1 did not improve from 0.44444\n",
            "Epoch 5/10\n",
            "3/3 [==============================] - 1s 365ms/step - loss: 0.5770 - accuracy: 0.7912 - precision: 0.6847 - recall: 0.6847 - f1: 0.7856 - val_loss: 0.7581 - val_accuracy: 0.4444 - val_precision: 0.6844 - val_recall: 0.6844 - val_f1: 0.4444\n",
            "\n",
            "Epoch 00005: val_f1 did not improve from 0.44444\n",
            "Epoch 6/10\n",
            "3/3 [==============================] - 1s 354ms/step - loss: 0.5707 - accuracy: 0.8030 - precision: 0.6972 - recall: 0.6972 - f1: 0.7927 - val_loss: 0.7751 - val_accuracy: 0.4444 - val_precision: 0.6944 - val_recall: 0.6944 - val_f1: 0.4444\n",
            "\n",
            "Epoch 00006: val_f1 did not improve from 0.44444\n",
            "Epoch 00006: early stopping\n"
          ],
          "name": "stdout"
        },
        {
          "output_type": "display_data",
          "data": {
            "image/png": "[encoded data removed]",
            "text/plain": [
              "<Figure size 432x288 with 1 Axes>"
            ]
          },
          "metadata": {
            "tags": [],
            "needs_background": "light"
          }
        },
        {
          "output_type": "display_data",
          "data": {
            "image/png": "[encoded data removed]",
            "text/plain": [
              "<Figure size 432x288 with 1 Axes>"
            ]
          },
          "metadata": {
            "tags": [],
            "needs_background": "light"
          }
        },
        {
          "output_type": "display_data",
          "data": {
            "image/png": "[encoded data removed]",
            "text/plain": [
              "<Figure size 432x288 with 1 Axes>"
            ]
          },
          "metadata": {
            "tags": [],
            "needs_background": "light"
          }
        },
        {
          "output_type": "display_data",
          "data": {
            "text/plain": [
              "<Figure size 432x288 with 0 Axes>"
            ]
          },
          "metadata": {
            "tags": []
          }
        }
      ]
    },
    {
      "cell_type": "markdown",
      "metadata": {
        "id": "H-RSSqI7BDqE"
      },
      "source": [
        "### Restart runtime and import Relibraries\n",
        "There is a bug, if run time isn't restart after this point, It's going to malfunction."
      ]
    },
    {
      "cell_type": "code",
      "metadata": {
        "id": "AnfxE-LmAWmK"
      },
      "source": [
        "# # os.kill(os.getpid(), 9)\n",
        "\n",
        "# exit()"
      ],
      "execution_count": null,
      "outputs": []
    },
    {
      "cell_type": "code",
      "metadata": {
        "colab": {
          "base_uri": "https://localhost:8080/"
        },
        "id": "Yl7JuOSe3tBl",
        "outputId": "d0aa0e47-b11e-4968-ecad-801c5e280ad9"
      },
      "source": [
        "# model_save_path = folder_path + \"saved_models/1_weights_best_LSTM_model_fasttext_1.hdf5\"\n",
        "print(\"Load model from \"+model_save_path)\n",
        "loaded_model  = tf.keras.models.load_model(model_save_path,custom_objects={\"f1\": f1}, compile=True)\n",
        "print(\"loaded \" + loaded_model.name)\n",
        "\n",
        "# _, train_acc,train_f1 = loaded_model.evaluate(X_train, y_train, verbose=1)\n",
        "# _, test_acc,test_f1= loaded_model.evaluate(X_test, y_test, verbose=1)\n",
        "# print('Train_acc: %.3f, Test_acc: %.3f, Train_f1: %.3f,  Test_f1: %.3f' % (train_acc, test_acc,train_f1,test_f1))"
      ],
      "execution_count": null,
      "outputs": [
        {
          "output_type": "stream",
          "text": [
            "Load model from /content/drive/Shareddrives/FYP/saved_models/1_CNN_LSTM_model_fasttext_300_5.hdf5\n",
            "loaded CNN_RNN_model\n"
          ],
          "name": "stdout"
        }
      ]
    },
    {
      "cell_type": "code",
      "metadata": {
        "id": "Cxp9ViDsA2bb"
      },
      "source": [
        "# from keras.models import Sequential,Model,load_model\n",
        "# import pandas as pd\n",
        "# import numpy as np\n",
        "# from sklearn.metrics import accuracy_score, f1_score, precision_score, recall_score, classification_report, confusion_matrix,precision_recall_fscore_support\n",
        "\n",
        "# experiment_no = 100\n",
        "# model_name = \"RNN\"\n",
        "# experiment_name = folder_path + \"Sentiment Analysis/CNN RNN/experiments/\" + model_name +str(experiment_no)+\"_\"+embedding_type+\"_\"+str(EMBEDDING_SIZE)+\"_\"+str(context)\n",
        "\n",
        "# model_save_path = folder_path + \"Sentiment Analysis/CNN RNN/saved_models/weights_best_\"+model_name+\"_\"+embedding_type+\"_\"+str(EMBEDDING_SIZE)+\"_\"+str(experiment_no)+\".hdf5\""
      ],
      "execution_count": null,
      "outputs": []
    },
    {
      "cell_type": "markdown",
      "metadata": {
        "id": "_VdzOT3zsB9m"
      },
      "source": [
        "### Test Model"
      ]
    },
    {
      "cell_type": "markdown",
      "metadata": {
        "id": "KMtXKRpRYBx2"
      },
      "source": [
        "#### Load Weights to Model"
      ]
    },
    {
      "cell_type": "markdown",
      "metadata": {
        "id": "BtZBU5XNZaMi"
      },
      "source": [
        "#### Get Predictions"
      ]
    },
    {
      "cell_type": "code",
      "metadata": {
        "colab": {
          "base_uri": "https://localhost:8080/"
        },
        "id": "MmA4iDmR2czB",
        "outputId": "3ac8bc38-541f-451e-91fe-6d802e85888c"
      },
      "source": [
        "predictions = loaded_model.predict(X_test, batch_size=BATCH_SIZE, verbose=1)\n",
        "labels = np.argmax(y_test, axis=1)\n",
        "predictions = np.argmax(predictions, axis=1)\n",
        "\n",
        "cm = confusion_matrix(labels,predictions)\n",
        "\n",
        "# classification_report\n",
        "report = classification_report(labels, predictions, digits=4,output_dict=True)\n",
        "report_print = classification_report(labels, predictions, digits=4)\n",
        "print(report_print)\n",
        "\n",
        "# report_df = pd.DataFrame(report).transpose()\n",
        "# report_df.to_csv(experiment_name+\".csv\")\n",
        "\n"
      ],
      "execution_count": null,
      "outputs": [
        {
          "output_type": "stream",
          "text": [
            "1/1 [==============================] - 0s 58ms/step\n",
            "              precision    recall  f1-score   support\n",
            "\n",
            "           1     1.0000    1.0000    1.0000        10\n",
            "\n",
            "    accuracy                         1.0000        10\n",
            "   macro avg     1.0000    1.0000    1.0000        10\n",
            "weighted avg     1.0000    1.0000    1.0000        10\n",
            "\n"
          ],
          "name": "stdout"
        }
      ]
    },
    {
      "cell_type": "code",
      "metadata": {
        "colab": {
          "base_uri": "https://localhost:8080/"
        },
        "id": "A5QjsfZxq4fq",
        "outputId": "5c8aef85-b5ff-4098-fa5e-99b077de41ab"
      },
      "source": [
        "train_data_original, test_data_original = train_test_split(data, test_size=0.1, random_state=0)\n",
        "\n",
        "predictions_series = pd.Series(predictions)\n",
        "predictions_1 = pd.get_dummies(predictions_series).idxmax(1)\n",
        "predictions_series"
      ],
      "execution_count": null,
      "outputs": [
        {
          "output_type": "execute_result",
          "data": {
            "text/plain": [
              "0    1\n",
              "1    1\n",
              "2    1\n",
              "3    1\n",
              "4    1\n",
              "5    1\n",
              "6    1\n",
              "7    1\n",
              "8    1\n",
              "9    1\n",
              "dtype: int64"
            ]
          },
          "metadata": {
            "tags": []
          },
          "execution_count": 36
        }
      ]
    },
    {
      "cell_type": "code",
      "metadata": {
        "id": "HT-ccXWZRdak"
      },
      "source": [
        "data_frame = pd.DataFrame({'comment': test_data_original['comment'], 'Labels': test_data_original['label'], 'Predictions': np.array(predictions_1)})\n",
        "\n",
        "def add_two(value):\n",
        "  return value+2\n",
        "\n",
        "#########################################\n",
        "def apply_label_name(value):\n",
        "  if technique == \"hate speech\":\n",
        "    if value == 0:\n",
        "      return \"hate\"\n",
        "    if value == 1:\n",
        "      return \"abusive\"\n",
        "    if value == 2:\n",
        "      return \"not offensive\"\n",
        "  else:\n",
        "    if value == 0:\n",
        "      return \"humorous\"\n",
        "    if value == 1:\n",
        "      return \"non humorous\"\n",
        "\n",
        "data_frame[\"Predictions\"] = data_frame[\"Predictions\"].apply(apply_label_name) #.apply(add_two)\n",
        "\n",
        "prediction_save_name  = folder_path + \"predictions/LSTM_S3_predictions_with_labels_3.csv\"\n",
        "data_frame.to_csv(prediction_save_name)"
      ],
      "execution_count": null,
      "outputs": []
    },
    {
      "cell_type": "markdown",
      "metadata": {
        "id": "qLkfB_XXPS3O"
      },
      "source": [
        "### Print confusion matrix"
      ]
    },
    {
      "cell_type": "code",
      "metadata": {
        "id": "bdCcVDhPPN_m"
      },
      "source": [
        "def plot_confusion_matrix(cm,\n",
        "                          target_names,\n",
        "                          title='Confusion matrix',\n",
        "                          cmap=None,\n",
        "                          normalize=True):\n",
        "    \"\"\"\n",
        "    given a sklearn confusion matrix (cm), make a nice plot\n",
        "\n",
        "    Arguments\n",
        "    ---------\n",
        "    cm:           confusion matrix from sklearn.metrics.confusion_matrix\n",
        "\n",
        "    target_names: given classification classes such as [0, 1, 2]\n",
        "                  the class names, for example: ['high', 'medium', 'low']\n",
        "\n",
        "    title:        the text to display at the top of the matrix\n",
        "\n",
        "    cmap:         the gradient of the values displayed from matplotlib.pyplot.cm\n",
        "                  see http://matplotlib.org/examples/color/colormaps_reference.html\n",
        "                  plt.get_cmap('jet') or plt.cm.Blues\n",
        "\n",
        "    normalize:    If False, plot the raw numbers\n",
        "                  If True, plot the proportions\n",
        "\n",
        "    Usage\n",
        "    -----\n",
        "    plot_confusion_matrix(cm           = cm,                  # confusion matrix created by\n",
        "                                                              # sklearn.metrics.confusion_matrix\n",
        "                          normalize    = True,                # show proportions\n",
        "                          target_names = y_labels_vals,       # list of names of the classes\n",
        "                          title        = best_estimator_name) # title of graph\n",
        "\n",
        "    Citiation\n",
        "    ---------\n",
        "    http://scikit-learn.org/stable/auto_examples/model_selection/plot_confusion_matrix.html\n",
        "\n",
        "    \"\"\"\n",
        "    import matplotlib.pyplot as plt\n",
        "    import numpy as np\n",
        "    import itertools\n",
        "\n",
        "    accuracy = np.trace(cm) / np.sum(cm).astype('float')\n",
        "    misclass = 1 - accuracy\n",
        "\n",
        "    if cmap is None:\n",
        "        cmap = plt.get_cmap('Blues')\n",
        "\n",
        "    plt.figure(figsize=(8, 6))\n",
        "    plt.imshow(cm, interpolation='nearest', cmap=cmap)\n",
        "    plt.title(title)\n",
        "    plt.colorbar()\n",
        "\n",
        "    if target_names is not None:\n",
        "        tick_marks = np.arange(len(target_names))\n",
        "        plt.xticks(tick_marks, target_names, rotation=45)\n",
        "        plt.yticks(tick_marks, target_names)\n",
        "\n",
        "    if normalize:\n",
        "        cm = cm.astype('float') / cm.sum(axis=1)[:, np.newaxis]\n",
        "\n",
        "\n",
        "    thresh = cm.max() / 1.5 if normalize else cm.max() / 2\n",
        "    for i, j in itertools.product(range(cm.shape[0]), range(cm.shape[1])):\n",
        "        if normalize:\n",
        "            plt.text(j, i, \"{:0.4f}\".format(cm[i, j]),\n",
        "                     horizontalalignment=\"center\",\n",
        "                     color=\"white\" if cm[i, j] > thresh else \"black\")\n",
        "        else:\n",
        "            plt.text(j, i, \"{:,}\".format(cm[i, j]),\n",
        "                     horizontalalignment=\"center\",\n",
        "                     color=\"white\" if cm[i, j] > thresh else \"black\")\n",
        "\n",
        "\n",
        "    plt.tight_layout()\n",
        "    plt.ylabel('True label')\n",
        "    plt.xlabel('Predicted label\\naccuracy={:0.4f}; misclass={:0.4f}'.format(accuracy, misclass))\n",
        "    plt.show()"
      ],
      "execution_count": null,
      "outputs": []
    },
    {
      "cell_type": "code",
      "metadata": {
        "colab": {
          "base_uri": "https://localhost:8080/",
          "height": 467
        },
        "id": "aVJwG_4FPQ2f",
        "outputId": "ba6519f1-e5a4-4718-e809-b3d866775658"
      },
      "source": [
        "plot_confusion_matrix(cm, [0,1,2],normalize=False)"
      ],
      "execution_count": null,
      "outputs": [
        {
          "output_type": "display_data",
          "data": {
            "image/png": "[encoded data removed]",
            "text/plain": [
              "<Figure size 576x432 with 2 Axes>"
            ]
          },
          "metadata": {
            "tags": [],
            "needs_background": "light"
          }
        }
      ]
    },
    {
      "cell_type": "markdown",
      "metadata": {
        "id": "_-x34NEZtU5C"
      },
      "source": [
        "## Train and Test Model (Cross Validation)"
      ]
    },
    {
      "cell_type": "code",
      "metadata": {
        "colab": {
          "base_uri": "https://localhost:8080/"
        },
        "id": "2iZDvr80VxPN",
        "outputId": "bb5ac35b-192c-4bed-b0d5-5a35d8516384"
      },
      "source": [
        "# Do_Cross_Validation(model,padded_docs,comment_labels)\n",
        "Do_Cross_Validation(padded_docs,comment_labels)"
      ],
      "execution_count": null,
      "outputs": [
        {
          "output_type": "stream",
          "text": [
            "/usr/local/lib/python3.7/dist-packages/tensorflow/python/keras/optimizer_v2/optimizer_v2.py:375: UserWarning: The `lr` argument is deprecated, use `learning_rate` instead.\n",
            "  \"The `lr` argument is deprecated, use `learning_rate` instead.\")\n"
          ],
          "name": "stderr"
        },
        {
          "output_type": "stream",
          "text": [
            "------------------------------------------------------------------------\n",
            "Training for fold 1 ...\n",
            "Training and Testing...\n",
            "/content/drive/Shareddrives/FYP/saved_models/1_CNN_LSTM_model_fasttext_300_5.hdf5\n",
            "Epoch 1/10\n",
            "3/3 [==============================] - 32s 1s/step - loss: 0.6955 - accuracy: 0.5625 - precision_1: 0.5361 - recall_1: 0.5007 - f1: 0.5757 - val_loss: 0.5251 - val_accuracy: 0.8889 - val_precision_1: 0.6667 - val_recall_1: 0.6444 - val_f1: 0.8889\n",
            "Epoch 2/10\n",
            "3/3 [==============================] - 1s 356ms/step - loss: 0.5432 - accuracy: 0.7740 - precision_1: 0.7003 - recall_1: 0.6850 - f1: 0.7720 - val_loss: 0.6319 - val_accuracy: 0.7778 - val_precision_1: 0.7288 - val_recall_1: 0.7167 - val_f1: 0.7778\n",
            "Epoch 3/10\n",
            "3/3 [==============================] - 1s 357ms/step - loss: 0.7159 - accuracy: 0.6481 - precision_1: 0.7080 - recall_1: 0.6987 - f1: 0.6502 - val_loss: 0.5159 - val_accuracy: 0.8889 - val_precision_1: 0.7191 - val_recall_1: 0.7111 - val_f1: 0.8889\n",
            "Epoch 4/10\n",
            "3/3 [==============================] - 1s 356ms/step - loss: 0.6492 - accuracy: 0.8130 - precision_1: 0.7353 - recall_1: 0.7283 - f1: 0.8110 - val_loss: 0.4587 - val_accuracy: 0.8889 - val_precision_1: 0.7395 - val_recall_1: 0.7333 - val_f1: 0.8889\n",
            "Epoch 5/10\n",
            "3/3 [==============================] - 1s 351ms/step - loss: 0.5664 - accuracy: 0.7935 - precision_1: 0.7462 - recall_1: 0.7407 - f1: 0.7961 - val_loss: 0.4351 - val_accuracy: 0.8889 - val_precision_1: 0.7517 - val_recall_1: 0.7467 - val_f1: 0.8889\n",
            "Epoch 6/10\n",
            "3/3 [==============================] - 1s 349ms/step - loss: 0.5446 - accuracy: 0.8052 - precision_1: 0.7577 - recall_1: 0.7531 - f1: 0.7940 - val_loss: 0.4983 - val_accuracy: 0.8889 - val_precision_1: 0.7598 - val_recall_1: 0.7556 - val_f1: 0.8889\n",
            "Epoch 00006: early stopping\n",
            "Score for fold 1:\n",
            "     loss of 0.7337707281112671; \n",
            "     accuracy of 50.0% ;\n",
            "     precision_1 of 75.50274133682251% ;\n",
            "     recall_1 of 75.09090900421143% ;\n",
            "     f1 of 49.99999403953552% ;\n",
            "     \n",
            "------------------------------------------------------------------------\n",
            "Training for fold 2 ...\n",
            "Training and Testing...\n",
            "/content/drive/Shareddrives/FYP/saved_models/1_CNN_LSTM_model_fasttext_300_5.hdf5\n",
            "Epoch 1/10\n",
            "3/3 [==============================] - 8s 1s/step - loss: 0.8571 - accuracy: 0.4852 - precision_2: 0.4725 - recall_2: 0.4619 - f1: 0.4731 - val_loss: 0.4708 - val_accuracy: 0.8889 - val_precision_2: 0.5393 - val_recall_2: 0.5333 - val_f1: 0.8889\n",
            "Epoch 2/10\n",
            "3/3 [==============================] - 1s 339ms/step - loss: 0.5934 - accuracy: 0.7437 - precision_2: 0.6077 - recall_2: 0.6033 - f1: 0.7446 - val_loss: 0.4737 - val_accuracy: 0.8889 - val_precision_2: 0.6536 - val_recall_2: 0.6500 - val_f1: 0.8889\n",
            "Epoch 3/10\n",
            "3/3 [==============================] - 1s 342ms/step - loss: 0.5729 - accuracy: 0.7515 - precision_2: 0.6741 - recall_2: 0.6712 - f1: 0.7525 - val_loss: 0.5025 - val_accuracy: 0.8889 - val_precision_2: 0.6914 - val_recall_2: 0.6889 - val_f1: 0.8889\n",
            "Epoch 4/10\n",
            "3/3 [==============================] - 1s 344ms/step - loss: 0.6100 - accuracy: 0.7359 - precision_2: 0.6969 - recall_2: 0.6947 - f1: 0.7368 - val_loss: 0.4617 - val_accuracy: 0.8889 - val_precision_2: 0.7103 - val_recall_2: 0.7083 - val_f1: 0.8889\n",
            "Epoch 5/10\n",
            "3/3 [==============================] - 1s 354ms/step - loss: 0.6231 - accuracy: 0.7437 - precision_2: 0.7137 - recall_2: 0.7120 - f1: 0.7446 - val_loss: 0.5777 - val_accuracy: 0.8889 - val_precision_2: 0.7216 - val_recall_2: 0.7200 - val_f1: 0.8889\n",
            "Epoch 6/10\n",
            "3/3 [==============================] - 1s 344ms/step - loss: 0.5905 - accuracy: 0.7275 - precision_2: 0.7221 - recall_2: 0.7207 - f1: 0.7257 - val_loss: 0.4375 - val_accuracy: 0.8889 - val_precision_2: 0.7254 - val_recall_2: 0.7241 - val_f1: 0.8889\n",
            "Epoch 00006: early stopping\n",
            "Score for fold 2:\n",
            "     loss of 0.5324662923812866; \n",
            "     accuracy of 80.0000011920929% ;\n",
            "     precision_2 of 72.67759442329407% ;\n",
            "     recall_2 of 72.5454568862915% ;\n",
            "     f1 of 80.0000011920929% ;\n",
            "     \n",
            "------------------------------------------------------------------------\n",
            "Training for fold 3 ...\n",
            "Training and Testing...\n",
            "/content/drive/Shareddrives/FYP/saved_models/1_CNN_LSTM_model_fasttext_300_5.hdf5\n",
            "Epoch 1/10\n",
            "3/3 [==============================] - 8s 1s/step - loss: 0.7135 - accuracy: 0.4568 - precision_3: 0.3904 - recall_3: 0.3743 - f1: 0.4657 - val_loss: 0.6832 - val_accuracy: 0.5556 - val_precision_3: 0.5455 - val_recall_3: 0.5333 - val_f1: 0.5556\n",
            "Epoch 2/10\n",
            "3/3 [==============================] - 1s 360ms/step - loss: 0.7412 - accuracy: 0.6397 - precision_3: 0.5741 - recall_3: 0.5657 - f1: 0.6299 - val_loss: 1.2152 - val_accuracy: 0.1111 - val_precision_3: 0.5730 - val_recall_3: 0.5667 - val_f1: 0.1111\n",
            "Epoch 3/10\n",
            "3/3 [==============================] - 1s 354ms/step - loss: 0.6942 - accuracy: 0.6247 - precision_3: 0.5777 - recall_3: 0.5727 - f1: 0.6360 - val_loss: 0.4400 - val_accuracy: 0.8889 - val_precision_3: 0.6157 - val_recall_3: 0.6111 - val_f1: 0.8889\n",
            "Epoch 4/10\n",
            "3/3 [==============================] - 1s 349ms/step - loss: 0.6087 - accuracy: 0.7633 - precision_3: 0.6390 - recall_3: 0.6350 - f1: 0.7596 - val_loss: 0.4443 - val_accuracy: 0.8889 - val_precision_3: 0.6536 - val_recall_3: 0.6500 - val_f1: 0.8889\n",
            "Epoch 5/10\n",
            "3/3 [==============================] - 1s 350ms/step - loss: 0.5972 - accuracy: 0.7180 - precision_3: 0.6600 - recall_3: 0.6568 - f1: 0.7199 - val_loss: 0.3738 - val_accuracy: 0.8889 - val_precision_3: 0.6741 - val_recall_3: 0.6711 - val_f1: 0.8889\n",
            "Epoch 6/10\n",
            "3/3 [==============================] - 1s 349ms/step - loss: 0.5977 - accuracy: 0.7711 - precision_3: 0.6845 - recall_3: 0.6817 - f1: 0.7674 - val_loss: 0.3885 - val_accuracy: 0.8889 - val_precision_3: 0.6896 - val_recall_3: 0.6870 - val_f1: 0.8889\n",
            "Epoch 7/10\n",
            "3/3 [==============================] - 1s 347ms/step - loss: 0.6170 - accuracy: 0.7554 - precision_3: 0.6952 - recall_3: 0.6928 - f1: 0.7610 - val_loss: 0.4070 - val_accuracy: 0.8889 - val_precision_3: 0.7006 - val_recall_3: 0.6984 - val_f1: 0.8889\n",
            "Epoch 8/10\n",
            "3/3 [==============================] - 1s 349ms/step - loss: 0.6095 - accuracy: 0.7320 - precision_3: 0.7022 - recall_3: 0.7001 - f1: 0.7375 - val_loss: 0.3603 - val_accuracy: 0.8889 - val_precision_3: 0.7089 - val_recall_3: 0.7069 - val_f1: 0.8889\n",
            "Epoch 00008: early stopping\n",
            "Score for fold 3:\n",
            "     loss of 0.5856848955154419; \n",
            "     accuracy of 80.0000011920929% ;\n",
            "     precision_3 of 71.01648449897766% ;\n",
            "     recall_3 of 70.82191705703735% ;\n",
            "     f1 of 80.0000011920929% ;\n",
            "     \n",
            "------------------------------------------------------------------------\n",
            "Training for fold 4 ...\n",
            "Training and Testing...\n",
            "/content/drive/Shareddrives/FYP/saved_models/1_CNN_LSTM_model_fasttext_300_5.hdf5\n",
            "Epoch 1/10\n",
            "3/3 [==============================] - 8s 1s/step - loss: 0.6626 - accuracy: 0.6465 - precision_4: 0.6128 - recall_4: 0.5990 - f1: 0.6568 - val_loss: 0.5388 - val_accuracy: 0.8889 - val_precision_4: 0.7191 - val_recall_4: 0.7111 - val_f1: 0.8889\n",
            "Epoch 2/10\n",
            "3/3 [==============================] - 1s 349ms/step - loss: 0.6924 - accuracy: 0.7515 - precision_4: 0.7307 - recall_4: 0.7253 - f1: 0.7616 - val_loss: 0.4140 - val_accuracy: 0.8889 - val_precision_4: 0.7430 - val_recall_4: 0.7389 - val_f1: 0.8889\n",
            "Epoch 3/10\n",
            "3/3 [==============================] - 1s 353ms/step - loss: 0.6311 - accuracy: 0.7554 - precision_4: 0.7460 - recall_4: 0.7427 - f1: 0.7610 - val_loss: 0.4116 - val_accuracy: 0.8889 - val_precision_4: 0.7509 - val_recall_4: 0.7481 - val_f1: 0.8889\n",
            "Epoch 4/10\n",
            "3/3 [==============================] - 1s 354ms/step - loss: 0.7295 - accuracy: 0.6413 - precision_4: 0.7343 - recall_4: 0.7320 - f1: 0.6555 - val_loss: 0.4384 - val_accuracy: 0.8889 - val_precision_4: 0.7298 - val_recall_4: 0.7278 - val_f1: 0.8889\n",
            "Epoch 5/10\n",
            "3/3 [==============================] - 1s 359ms/step - loss: 0.5787 - accuracy: 0.7655 - precision_4: 0.7341 - recall_4: 0.7323 - f1: 0.7701 - val_loss: 0.4098 - val_accuracy: 0.8889 - val_precision_4: 0.7394 - val_recall_4: 0.7378 - val_f1: 0.8889\n",
            "Epoch 6/10\n",
            "3/3 [==============================] - 1s 349ms/step - loss: 0.5775 - accuracy: 0.7750 - precision_4: 0.7439 - recall_4: 0.7424 - f1: 0.7667 - val_loss: 0.3995 - val_accuracy: 0.8889 - val_precision_4: 0.7440 - val_recall_4: 0.7426 - val_f1: 0.8889\n",
            "Epoch 00006: early stopping\n",
            "Score for fold 4:\n",
            "     loss of 0.6745489835739136; \n",
            "     accuracy of 69.9999988079071% ;\n",
            "     precision_4 of 74.31694269180298% ;\n",
            "     recall_4 of 74.18181896209717% ;\n",
            "     f1 of 69.99999284744263% ;\n",
            "     \n",
            "------------------------------------------------------------------------\n",
            "Training for fold 5 ...\n",
            "Training and Testing...\n",
            "/content/drive/Shareddrives/FYP/saved_models/1_CNN_LSTM_model_fasttext_300_5.hdf5\n",
            "Epoch 1/10\n",
            "3/3 [==============================] - 8s 1s/step - loss: 0.7558 - accuracy: 0.6033 - precision_5: 0.6064 - recall_5: 0.5924 - f1: 0.5976 - val_loss: 0.4516 - val_accuracy: 0.8889 - val_precision_5: 0.6404 - val_recall_5: 0.6333 - val_f1: 0.8889\n",
            "Epoch 2/10\n",
            "3/3 [==============================] - 1s 351ms/step - loss: 0.6299 - accuracy: 0.7415 - precision_5: 0.6749 - recall_5: 0.6700 - f1: 0.7341 - val_loss: 0.6775 - val_accuracy: 0.8889 - val_precision_5: 0.6983 - val_recall_5: 0.6944 - val_f1: 0.8889\n",
            "Epoch 3/10\n",
            "3/3 [==============================] - 1s 348ms/step - loss: 0.6346 - accuracy: 0.7158 - precision_5: 0.7006 - recall_5: 0.6975 - f1: 0.7186 - val_loss: 0.4416 - val_accuracy: 0.8889 - val_precision_5: 0.7138 - val_recall_5: 0.7111 - val_f1: 0.8889\n",
            "Epoch 4/10\n",
            "3/3 [==============================] - 1s 355ms/step - loss: 0.5790 - accuracy: 0.7649 - precision_5: 0.7234 - recall_5: 0.7211 - f1: 0.7576 - val_loss: 0.5688 - val_accuracy: 0.8889 - val_precision_5: 0.7242 - val_recall_5: 0.7222 - val_f1: 0.8889\n",
            "Epoch 5/10\n",
            "3/3 [==============================] - 1s 349ms/step - loss: 0.6553 - accuracy: 0.6627 - precision_5: 0.7138 - recall_5: 0.7121 - f1: 0.6803 - val_loss: 0.4236 - val_accuracy: 0.8889 - val_precision_5: 0.7261 - val_recall_5: 0.7244 - val_f1: 0.8889\n",
            "Epoch 6/10\n",
            "3/3 [==============================] - 1s 347ms/step - loss: 0.6924 - accuracy: 0.7633 - precision_5: 0.7302 - recall_5: 0.7287 - f1: 0.7596 - val_loss: 0.4833 - val_accuracy: 0.8889 - val_precision_5: 0.7328 - val_recall_5: 0.7315 - val_f1: 0.8889\n",
            "Epoch 00006: early stopping\n",
            "Score for fold 5:\n",
            "     loss of 0.46933382749557495; \n",
            "     accuracy of 89.99999761581421% ;\n",
            "     precision_5 of 73.58834147453308% ;\n",
            "     recall_5 of 73.45454692840576% ;\n",
            "     f1 of 89.99999165534973% ;\n",
            "     \n",
            "------------------------------------------------------------------------\n",
            "Training for fold 6 ...\n",
            "Training and Testing...\n",
            "/content/drive/Shareddrives/FYP/saved_models/1_CNN_LSTM_model_fasttext_300_5.hdf5\n",
            "Epoch 1/10\n",
            "3/3 [==============================] - 8s 1s/step - loss: 0.6175 - accuracy: 0.6269 - precision_6: 0.5732 - recall_6: 0.5605 - f1: 0.6413 - val_loss: 0.4053 - val_accuracy: 0.8889 - val_precision_6: 0.7191 - val_recall_6: 0.7111 - val_f1: 0.8889\n",
            "Epoch 2/10\n",
            "3/3 [==============================] - 1s 355ms/step - loss: 1.0844 - accuracy: 0.5171 - precision_6: 0.6515 - recall_6: 0.6467 - f1: 0.5501 - val_loss: 0.4398 - val_accuracy: 0.8889 - val_precision_6: 0.6369 - val_recall_6: 0.6333 - val_f1: 0.8889\n",
            "Epoch 3/10\n",
            "3/3 [==============================] - 1s 350ms/step - loss: 0.6407 - accuracy: 0.7711 - precision_6: 0.6672 - recall_6: 0.6643 - f1: 0.7674 - val_loss: 0.5645 - val_accuracy: 0.8889 - val_precision_6: 0.6803 - val_recall_6: 0.6778 - val_f1: 0.8889\n",
            "Epoch 4/10\n",
            "3/3 [==============================] - 1s 347ms/step - loss: 0.6420 - accuracy: 0.8287 - precision_6: 0.7058 - recall_6: 0.7036 - f1: 0.8175 - val_loss: 0.5597 - val_accuracy: 0.8889 - val_precision_6: 0.7103 - val_recall_6: 0.7083 - val_f1: 0.8889\n",
            "Epoch 5/10\n",
            "3/3 [==============================] - 1s 349ms/step - loss: 0.5982 - accuracy: 0.7812 - precision_6: 0.7197 - recall_6: 0.7179 - f1: 0.7765 - val_loss: 0.4584 - val_accuracy: 0.8889 - val_precision_6: 0.7238 - val_recall_6: 0.7222 - val_f1: 0.8889\n",
            "Epoch 6/10\n",
            "3/3 [==============================] - 1s 347ms/step - loss: 0.5984 - accuracy: 0.7538 - precision_6: 0.7262 - recall_6: 0.7248 - f1: 0.7629 - val_loss: 0.3849 - val_accuracy: 0.8889 - val_precision_6: 0.7328 - val_recall_6: 0.7315 - val_f1: 0.8889\n",
            "Epoch 00006: early stopping\n",
            "Score for fold 6:\n",
            "     loss of 0.6818293333053589; \n",
            "     accuracy of 69.9999988079071% ;\n",
            "     precision_6 of 73.22404384613037% ;\n",
            "     recall_6 of 73.09091091156006% ;\n",
            "     f1 of 69.99999284744263% ;\n",
            "     \n",
            "------------------------------------------------------------------------\n",
            "Training for fold 7 ...\n",
            "Training and Testing...\n",
            "/content/drive/Shareddrives/FYP/saved_models/1_CNN_LSTM_model_fasttext_300_5.hdf5\n",
            "Epoch 1/10\n",
            "3/3 [==============================] - 8s 1s/step - loss: 0.8951 - accuracy: 0.5496 - precision_7: 0.5339 - recall_7: 0.5217 - f1: 0.5460 - val_loss: 0.4720 - val_accuracy: 0.8889 - val_precision_7: 0.6067 - val_recall_7: 0.6000 - val_f1: 0.8889\n",
            "Epoch 2/10\n",
            "3/3 [==============================] - 1s 352ms/step - loss: 0.6339 - accuracy: 0.7044 - precision_7: 0.6476 - recall_7: 0.6429 - f1: 0.6845 - val_loss: 0.4213 - val_accuracy: 0.8889 - val_precision_7: 0.6480 - val_recall_7: 0.6444 - val_f1: 0.8889\n",
            "Epoch 3/10\n",
            "3/3 [==============================] - 1s 353ms/step - loss: 0.6510 - accuracy: 0.7532 - precision_7: 0.6715 - recall_7: 0.6685 - f1: 0.7413 - val_loss: 0.6201 - val_accuracy: 0.8889 - val_precision_7: 0.6840 - val_recall_7: 0.6815 - val_f1: 0.8889\n",
            "Epoch 4/10\n",
            "3/3 [==============================] - 1s 348ms/step - loss: 0.6093 - accuracy: 0.7174 - precision_7: 0.6892 - recall_7: 0.6870 - f1: 0.7166 - val_loss: 0.5147 - val_accuracy: 0.8889 - val_precision_7: 0.6964 - val_recall_7: 0.6944 - val_f1: 0.8889\n",
            "Epoch 5/10\n",
            "3/3 [==============================] - 1s 346ms/step - loss: 0.5958 - accuracy: 0.7297 - precision_7: 0.6997 - recall_7: 0.6980 - f1: 0.7270 - val_loss: 0.5572 - val_accuracy: 0.8889 - val_precision_7: 0.7082 - val_recall_7: 0.7067 - val_f1: 0.8889\n",
            "Epoch 6/10\n",
            "3/3 [==============================] - 1s 348ms/step - loss: 0.6206 - accuracy: 0.7079 - precision_7: 0.7073 - recall_7: 0.7058 - f1: 0.7108 - val_loss: 0.5200 - val_accuracy: 0.8889 - val_precision_7: 0.7143 - val_recall_7: 0.7130 - val_f1: 0.8889\n",
            "Epoch 00006: early stopping\n",
            "Score for fold 7:\n",
            "     loss of 0.5270326137542725; \n",
            "     accuracy of 89.99999761581421% ;\n",
            "     precision_7 of 71.76684737205505% ;\n",
            "     recall_7 of 71.63636088371277% ;\n",
            "     f1 of 89.99999165534973% ;\n",
            "     \n",
            "------------------------------------------------------------------------\n",
            "Training for fold 8 ...\n",
            "Training and Testing...\n",
            "/content/drive/Shareddrives/FYP/saved_models/1_CNN_LSTM_model_fasttext_300_5.hdf5\n",
            "Epoch 1/10\n",
            "3/3 [==============================] - 8s 1s/step - loss: 0.7592 - accuracy: 0.4439 - precision_8: 0.4047 - recall_8: 0.3875 - f1: 0.4341 - val_loss: 0.2164 - val_accuracy: 1.0000 - val_precision_8: 0.5455 - val_recall_8: 0.5333 - val_f1: 1.0000\n",
            "Epoch 2/10\n",
            "3/3 [==============================] - 1s 358ms/step - loss: 0.6711 - accuracy: 0.7694 - precision_8: 0.6241 - recall_8: 0.6150 - f1: 0.7694 - val_loss: 0.5313 - val_accuracy: 1.0000 - val_precision_8: 0.6685 - val_recall_8: 0.6611 - val_f1: 1.0000\n",
            "Epoch 3/10\n",
            "3/3 [==============================] - 1s 361ms/step - loss: 0.6085 - accuracy: 0.7616 - precision_8: 0.6878 - recall_8: 0.6818 - f1: 0.7616 - val_loss: 0.2900 - val_accuracy: 1.0000 - val_precision_8: 0.7090 - val_recall_8: 0.7037 - val_f1: 1.0000\n",
            "Epoch 4/10\n",
            "3/3 [==============================] - 1s 361ms/step - loss: 0.5868 - accuracy: 0.7577 - precision_8: 0.7158 - recall_8: 0.7113 - f1: 0.7623 - val_loss: 0.3298 - val_accuracy: 1.0000 - val_precision_8: 0.7291 - val_recall_8: 0.7250 - val_f1: 1.0000\n",
            "Epoch 5/10\n",
            "3/3 [==============================] - 1s 356ms/step - loss: 0.6120 - accuracy: 0.7135 - precision_8: 0.7270 - recall_8: 0.7235 - f1: 0.7173 - val_loss: 0.3162 - val_accuracy: 1.0000 - val_precision_8: 0.7321 - val_recall_8: 0.7289 - val_f1: 1.0000\n",
            "Epoch 6/10\n",
            "3/3 [==============================] - 1s 358ms/step - loss: 0.5712 - accuracy: 0.7577 - precision_8: 0.7343 - recall_8: 0.7313 - f1: 0.7623 - val_loss: 0.2476 - val_accuracy: 1.0000 - val_precision_8: 0.7416 - val_recall_8: 0.7389 - val_f1: 1.0000\n",
            "Epoch 00006: early stopping\n",
            "Score for fold 8:\n",
            "     loss of 0.7477396130561829; \n",
            "     accuracy of 60.00000238418579% ;\n",
            "     precision_8 of 73.9051103591919% ;\n",
            "     recall_8 of 73.63636493682861% ;\n",
            "     f1 of 59.99999642372131% ;\n",
            "     \n",
            "------------------------------------------------------------------------\n",
            "Training for fold 9 ...\n",
            "Training and Testing...\n",
            "/content/drive/Shareddrives/FYP/saved_models/1_CNN_LSTM_model_fasttext_300_5.hdf5\n",
            "Epoch 1/10\n",
            "3/3 [==============================] - 8s 1s/step - loss: 0.9550 - accuracy: 0.4560 - precision_9: 0.5106 - recall_9: 0.4743 - f1: 0.4403 - val_loss: 0.4521 - val_accuracy: 0.8889 - val_precision_9: 0.4828 - val_recall_9: 0.4667 - val_f1: 0.8889\n",
            "Epoch 2/10\n",
            "3/3 [==============================] - 1s 353ms/step - loss: 0.6313 - accuracy: 0.7258 - precision_9: 0.5644 - recall_9: 0.5521 - f1: 0.7277 - val_loss: 0.5041 - val_accuracy: 0.8889 - val_precision_9: 0.6215 - val_recall_9: 0.6111 - val_f1: 0.8889\n",
            "Epoch 3/10\n",
            "3/3 [==============================] - 1s 351ms/step - loss: 0.5789 - accuracy: 0.7314 - precision_9: 0.6453 - recall_9: 0.6368 - f1: 0.7342 - val_loss: 0.4141 - val_accuracy: 0.8889 - val_precision_9: 0.6629 - val_recall_9: 0.6556 - val_f1: 0.8889\n",
            "Epoch 4/10\n",
            "3/3 [==============================] - 1s 347ms/step - loss: 0.6411 - accuracy: 0.7359 - precision_9: 0.6728 - recall_9: 0.6665 - f1: 0.7460 - val_loss: 0.4089 - val_accuracy: 0.8889 - val_precision_9: 0.6891 - val_recall_9: 0.6833 - val_f1: 0.8889\n",
            "Epoch 5/10\n",
            "3/3 [==============================] - 1s 353ms/step - loss: 0.5670 - accuracy: 0.7750 - precision_9: 0.7006 - recall_9: 0.6955 - f1: 0.7759 - val_loss: 0.4374 - val_accuracy: 0.8889 - val_precision_9: 0.7047 - val_recall_9: 0.7000 - val_f1: 0.8889\n",
            "Epoch 6/10\n",
            "3/3 [==============================] - 1s 349ms/step - loss: 0.5551 - accuracy: 0.7711 - precision_9: 0.7121 - recall_9: 0.7078 - f1: 0.7582 - val_loss: 0.6633 - val_accuracy: 0.6667 - val_precision_9: 0.7114 - val_recall_9: 0.7074 - val_f1: 0.6667\n",
            "Epoch 00006: early stopping\n",
            "Score for fold 9:\n",
            "     loss of 0.6602943539619446; \n",
            "     accuracy of 80.0000011920929% ;\n",
            "     precision_9 of 71.29799127578735% ;\n",
            "     recall_9 of 70.90908885002136% ;\n",
            "     f1 of 80.0000011920929% ;\n",
            "     \n",
            "------------------------------------------------------------------------\n",
            "Training for fold 10 ...\n",
            "Training and Testing...\n",
            "/content/drive/Shareddrives/FYP/saved_models/1_CNN_LSTM_model_fasttext_300_5.hdf5\n",
            "Epoch 1/10\n",
            "3/3 [==============================] - 8s 1s/step - loss: 0.6909 - accuracy: 0.6150 - precision_10: 0.6285 - recall_10: 0.6138 - f1: 0.6050 - val_loss: 0.4209 - val_accuracy: 0.8889 - val_precision_10: 0.6404 - val_recall_10: 0.6333 - val_f1: 0.8889\n",
            "Epoch 2/10\n",
            "3/3 [==============================] - 1s 345ms/step - loss: 0.7885 - accuracy: 0.5685 - precision_10: 0.6223 - recall_10: 0.6178 - f1: 0.5812 - val_loss: 0.6089 - val_accuracy: 0.8889 - val_precision_10: 0.6089 - val_recall_10: 0.6056 - val_f1: 0.8889\n",
            "Epoch 3/10\n",
            "3/3 [==============================] - 1s 360ms/step - loss: 0.6352 - accuracy: 0.6878 - precision_10: 0.6236 - recall_10: 0.6209 - f1: 0.6834 - val_loss: 0.5433 - val_accuracy: 0.8889 - val_precision_10: 0.6468 - val_recall_10: 0.6444 - val_f1: 0.8889\n",
            "Epoch 4/10\n",
            "3/3 [==============================] - 1s 359ms/step - loss: 0.6363 - accuracy: 0.7197 - precision_10: 0.6572 - recall_10: 0.6552 - f1: 0.7179 - val_loss: 0.5430 - val_accuracy: 0.8889 - val_precision_10: 0.6713 - val_recall_10: 0.6694 - val_f1: 0.8889\n",
            "Epoch 5/10\n",
            "3/3 [==============================] - 1s 350ms/step - loss: 0.6266 - accuracy: 0.7174 - precision_10: 0.6769 - recall_10: 0.6752 - f1: 0.7166 - val_loss: 0.5267 - val_accuracy: 0.8889 - val_precision_10: 0.6837 - val_recall_10: 0.6822 - val_f1: 0.8889\n",
            "Epoch 6/10\n",
            "3/3 [==============================] - 1s 356ms/step - loss: 0.6020 - accuracy: 0.7079 - precision_10: 0.6852 - recall_10: 0.6838 - f1: 0.7200 - val_loss: 0.4039 - val_accuracy: 0.8889 - val_precision_10: 0.6939 - val_recall_10: 0.6926 - val_f1: 0.8889\n",
            "Epoch 00006: early stopping\n",
            "Score for fold 10:\n",
            "     loss of 0.16781631112098694; \n",
            "     accuracy of 100.0% ;\n",
            "     precision_10 of 69.94535326957703% ;\n",
            "     recall_10 of 69.81818079948425% ;\n",
            "     f1 of 100.0% ;\n",
            "     \n",
            "------------------------------------------------------------------------\n",
            "Score per fold\n",
            "------------------------------------------------------------------------\n",
            "> Fold 1 - \n",
            "    Loss: 0.7337707281112671 - \n",
            "    Accuracy: 0.5% - \n",
            "    Precesion: 0.7550274133682251% - \n",
            "    Recall: 0.7509090900421143% - \n",
            "    F1: 0.4999999403953552%\n",
            "    \n",
            "------------------------------------------------------------------------\n",
            "> Fold 2 - \n",
            "    Loss: 0.5324662923812866 - \n",
            "    Accuracy: 0.800000011920929% - \n",
            "    Precesion: 0.7267759442329407% - \n",
            "    Recall: 0.725454568862915% - \n",
            "    F1: 0.800000011920929%\n",
            "    \n",
            "------------------------------------------------------------------------\n",
            "> Fold 3 - \n",
            "    Loss: 0.5856848955154419 - \n",
            "    Accuracy: 0.800000011920929% - \n",
            "    Precesion: 0.7101648449897766% - \n",
            "    Recall: 0.7082191705703735% - \n",
            "    F1: 0.800000011920929%\n",
            "    \n",
            "------------------------------------------------------------------------\n",
            "> Fold 4 - \n",
            "    Loss: 0.6745489835739136 - \n",
            "    Accuracy: 0.699999988079071% - \n",
            "    Precesion: 0.7431694269180298% - \n",
            "    Recall: 0.7418181896209717% - \n",
            "    F1: 0.6999999284744263%\n",
            "    \n",
            "------------------------------------------------------------------------\n",
            "> Fold 5 - \n",
            "    Loss: 0.46933382749557495 - \n",
            "    Accuracy: 0.8999999761581421% - \n",
            "    Precesion: 0.7358834147453308% - \n",
            "    Recall: 0.7345454692840576% - \n",
            "    F1: 0.8999999165534973%\n",
            "    \n",
            "------------------------------------------------------------------------\n",
            "> Fold 6 - \n",
            "    Loss: 0.6818293333053589 - \n",
            "    Accuracy: 0.699999988079071% - \n",
            "    Precesion: 0.7322404384613037% - \n",
            "    Recall: 0.7309091091156006% - \n",
            "    F1: 0.6999999284744263%\n",
            "    \n",
            "------------------------------------------------------------------------\n",
            "> Fold 7 - \n",
            "    Loss: 0.5270326137542725 - \n",
            "    Accuracy: 0.8999999761581421% - \n",
            "    Precesion: 0.7176684737205505% - \n",
            "    Recall: 0.7163636088371277% - \n",
            "    F1: 0.8999999165534973%\n",
            "    \n",
            "------------------------------------------------------------------------\n",
            "> Fold 8 - \n",
            "    Loss: 0.7477396130561829 - \n",
            "    Accuracy: 0.6000000238418579% - \n",
            "    Precesion: 0.739051103591919% - \n",
            "    Recall: 0.7363636493682861% - \n",
            "    F1: 0.5999999642372131%\n",
            "    \n",
            "------------------------------------------------------------------------\n",
            "> Fold 9 - \n",
            "    Loss: 0.6602943539619446 - \n",
            "    Accuracy: 0.800000011920929% - \n",
            "    Precesion: 0.7129799127578735% - \n",
            "    Recall: 0.7090908885002136% - \n",
            "    F1: 0.800000011920929%\n",
            "    \n",
            "------------------------------------------------------------------------\n",
            "> Fold 10 - \n",
            "    Loss: 0.16781631112098694 - \n",
            "    Accuracy: 1.0% - \n",
            "    Precesion: 0.6994535326957703% - \n",
            "    Recall: 0.6981818079948425% - \n",
            "    F1: 1.0%\n",
            "    \n",
            "------------------------------------------------------------------------\n",
            "Average scores for all folds:\n",
            "> Loss: 0.578051695227623\n",
            "> Accuracy: 0.7699999988079071 (+- 0.14177446349030276)\n",
            "> Precision: 0.727241450548172\n",
            "> Recall: 0.7251855552196502\n",
            "> F1: 0.7699999630451202\n",
            "------------------------------------------------------------------------\n"
          ],
          "name": "stdout"
        }
      ]
    },
    {
      "cell_type": "markdown",
      "metadata": {
        "id": "LR7WojLAszo7"
      },
      "source": [
        "# Hyperparameter Tuning"
      ]
    },
    {
      "cell_type": "code",
      "metadata": {
        "id": "GEjuD0hzohUv"
      },
      "source": [
        "def tune_hyperparameters(model_build_fn):\n",
        "  # fix random seed for reproducibility\n",
        "  seed = 7\n",
        "  np.random.seed(seed)\n",
        "\n",
        "  model = KerasClassifier(build_fn=model_build_fn, maxlen=MAX_LEN, hidden_dims=HIDDEN_DIMS, l2_reg= L2_REG, verbose=VERBOSITY)\n",
        "\n",
        "  # optimizer = ['SGD', 'RMSprop', 'Adagrad', 'Adadelta', 'Adam', 'Adamax', 'Nadam']\n",
        "  maxlen_list  = [210]\n",
        "  hidden_dims_list = [300, 400, 500, 600]\n",
        "  l2_reg_list = [0.01, 0.02]\n",
        "  drop_out_value_list = [0.5, 0.8]\n",
        "  # tune for kernal size 2,3,4,5\n",
        "\n",
        "\n",
        "  param_grid = dict(maxlen=maxlen_list, hidden_dims = hidden_dims_list, l2_reg= l2_reg_list, drop_out_value = drop_out_value_list )\n",
        "  grid = GridSearchCV(estimator=model, param_grid=param_grid, n_jobs=-1, cv=FOLDS, verbose = 10 )\n",
        "  grid_result = grid.fit(padded_docs, comment_labels)\n",
        "\n",
        "  # summarize results\n",
        "  print(\"Best: %f using %s\" % (grid_result.best_score_, grid_result.best_params_))\n",
        "  means = grid_result.cv_results_['mean_test_score']\n",
        "  stds = grid_result.cv_results_['std_test_score']\n",
        "  params = grid_result.cv_results_['params']\n",
        "  for mean, stdev, param in zip(means, stds, params):\n",
        "      print(\"%f (%f) with: %r\" % (mean, stdev, param))"
      ],
      "execution_count": null,
      "outputs": []
    },
    {
      "cell_type": "code",
      "metadata": {
        "id": "oHYpTsTDtFIr"
      },
      "source": [
        "# tune_hyperparameters(build_model)"
      ],
      "execution_count": null,
      "outputs": []
    },
    {
      "cell_type": "code",
      "metadata": {
        "id": "9LVsCEb-IKaY"
      },
      "source": [
        ""
      ],
      "execution_count": null,
      "outputs": []
    }
  ]
}
