{
  "nbformat": 4,
  "nbformat_minor": 0,
  "metadata": {
    "colab": {
      "name": "Code Mixing Index.ipynb",
      "provenance": [],
      "collapsed_sections": [],
      "authorship_tag": "ABX9TyOov5A1/XvhfLhqPQG9Jn5M",
      "include_colab_link": true
    },
    "kernelspec": {
      "name": "python3",
      "display_name": "Python 3"
    },
    "language_info": {
      "name": "python"
    }
  },
  "cells": [
    {
      "cell_type": "markdown",
      "metadata": {
        "id": "view-in-github",
        "colab_type": "text"
      },
      "source": [
        "<a href=\"https://colab.research.google.com/github/HimashiRathnayake/CMCS-Text-Classification/blob/main/Dataset_Evaluation/Code_Mixing_Index.ipynb\" target=\"_parent\"><img src=\"https://colab.research.google.com/assets/colab-badge.svg\" alt=\"Open In Colab\"/></a>"
      ]
    },
    {
      "cell_type": "markdown",
      "source": [
        "**CMI - Code Mixing Index Calculation**"
      ],
      "metadata": {
        "id": "fYqvG7nSaLup"
      }
    },
    {
      "cell_type": "code",
      "execution_count": 1,
      "metadata": {
        "id": "BYho2JPJfn5V"
      },
      "outputs": [],
      "source": [
        "data_path = \"/content/drive/Shareddrives/FYP-CodeStars/Dataset/LID_withSenId.csv\""
      ]
    },
    {
      "cell_type": "code",
      "source": [
        "from google.colab import drive\n",
        "import pandas as pd"
      ],
      "metadata": {
        "id": "1m6rrXFogDFj"
      },
      "execution_count": 2,
      "outputs": []
    },
    {
      "cell_type": "code",
      "source": [
        "drive.mount('/content/drive')"
      ],
      "metadata": {
        "colab": {
          "base_uri": "https://localhost:8080/"
        },
        "id": "Up_SgfJagG8B",
        "outputId": "a72d87e6-cab2-412d-c415-7fab32cce9c0"
      },
      "execution_count": 3,
      "outputs": [
        {
          "output_type": "stream",
          "name": "stdout",
          "text": [
            "Mounted at /content/drive\n"
          ]
        }
      ]
    },
    {
      "cell_type": "code",
      "source": [
        "all_data = pd.read_csv(data_path)"
      ],
      "metadata": {
        "id": "MvJCkIx9gIxU"
      },
      "execution_count": 4,
      "outputs": []
    },
    {
      "cell_type": "code",
      "source": [
        "grouping = all_data.groupby(['SenId'])"
      ],
      "metadata": {
        "id": "29wGPpVNgRy4"
      },
      "execution_count": 5,
      "outputs": []
    },
    {
      "cell_type": "code",
      "source": [
        "# maxW - maximum number of tokens\n",
        "\n",
        "totCMI = 0\n",
        "senCount = 0\n",
        "considerAll = True\n",
        "for sen in grouping:\n",
        "    sinCount = 0\n",
        "    engCount = 0\n",
        "    siEnCount = 0\n",
        "    enSiCount = 0\n",
        "    for tag in sen[1][\"LID\"]:\n",
        "      if (tag == \"Sinhala\"):\n",
        "        sinCount += 1\n",
        "      elif (tag == \"English\"):\n",
        "        engCount += 1\n",
        "      elif (tag == \"Sin-Eng\"):\n",
        "        siEnCount += 1\n",
        "      elif (tag == \"Eng-Sin\"):\n",
        "        enSiCount += 1\n",
        "\n",
        "    # finding the highest number of words present from any language.  \n",
        "    if (sinCount > engCount and sinCount > siEnCount and sinCount > enSiCount):\n",
        "      maxW = sinCount\n",
        "    elif (engCount > sinCount and engCount > siEnCount and engCount > enSiCount):\n",
        "      maxW = engCount\n",
        "    elif (siEnCount > sinCount and siEnCount > engCount and siEnCount > enSiCount):\n",
        "      maxW = siEnCount\n",
        "    else:\n",
        "      maxW = enSiCount\n",
        "      \n",
        "    totCount = sinCount + engCount + siEnCount + enSiCount\n",
        "    if (totCount== 0):\n",
        "      # handle sentences with unrelated tags\n",
        "      if (considerAll):\n",
        "        totCMI += 0\n",
        "        senCount += 1 \n",
        "    elif (totCount==sinCount or totCount==engCount):\n",
        "      # handle sentences without any code-mixing   \n",
        "      totCMI += 100 * (1-(maxW/totCount))\n",
        "      if (considerAll):\n",
        "        senCount += 1\n",
        "    else:\n",
        "      # handle sentences with code-mixing  \n",
        "      totCMI += 100 * (1-(maxW/totCount))\n",
        "      senCount += 1"
      ],
      "metadata": {
        "id": "zulxhcf0gnn3"
      },
      "execution_count": 12,
      "outputs": []
    },
    {
      "cell_type": "code",
      "source": [
        "totCMI/senCount"
      ],
      "metadata": {
        "colab": {
          "base_uri": "https://localhost:8080/"
        },
        "id": "iJM9soHHgqS6",
        "outputId": "279b0d23-4b44-4877-bdcd-f6641c82c17e"
      },
      "execution_count": 16,
      "outputs": [
        {
          "output_type": "execute_result",
          "data": {
            "text/plain": [
              "11.519342438295425"
            ]
          },
          "metadata": {},
          "execution_count": 16
        }
      ]
    },
    {
      "cell_type": "code",
      "source": [
        "# all = 11.519342438295425\n",
        "# mixed = 23.76917111402008"
      ],
      "metadata": {
        "id": "hYUQbVpQmGd6"
      },
      "execution_count": null,
      "outputs": []
    }
  ]
}